{
  "nbformat": 4,
  "nbformat_minor": 0,
  "metadata": {
    "colab": {
      "name": "58025_CS8InsightDevelopment_Wagler.ipynb",
      "provenance": [],
      "toc_visible": true,
      "include_colab_link": true
    },
    "kernelspec": {
      "name": "python3",
      "display_name": "Python 3"
    },
    "language_info": {
      "name": "python"
    }
  },
  "cells": [
    {
      "cell_type": "markdown",
      "metadata": {
        "id": "view-in-github",
        "colab_type": "text"
      },
      "source": [
        "<a href=\"https://colab.research.google.com/github/crystalreine/Coding-Propositional-Logic/blob/main/58025_CS8InsightDevelopment_Wagler.ipynb\" target=\"_parent\"><img src=\"https://colab.research.google.com/assets/colab-badge.svg\" alt=\"Open In Colab\"/></a>"
      ]
    },
    {
      "cell_type": "markdown",
      "metadata": {
        "id": "hX1cUVXd0jk6"
      },
      "source": [
        "#Wagler Group\n",
        "#### CPE ELECTIVE 1AIDA- FUND OF AI & DATA ANALYTIC \n",
        "#### Google Colab for CS7 (Data Preparation) and CS8 (Insight Development)"
      ]
    },
    {
      "cell_type": "code",
      "metadata": {
        "id": "Py78apLapWmh"
      },
      "source": [
        "import pandas as pd\n",
        "import matplotlib.pyplot as plt\n",
        "import seaborn as sns\n",
        "import numpy as np"
      ],
      "execution_count": 311,
      "outputs": []
    },
    {
      "cell_type": "code",
      "metadata": {
        "id": "fnsxO6zqpfyW"
      },
      "source": [
        "gamers_perspective_df = pd.read_csv(\"Gamers_Perspective.csv\")"
      ],
      "execution_count": 312,
      "outputs": []
    },
    {
      "cell_type": "code",
      "metadata": {
        "id": "gZRIz_THHWd_",
        "colab": {
          "base_uri": "https://localhost:8080/",
          "height": 1000
        },
        "outputId": "ea6ee268-6ce1-4d8b-cd7d-b7810228756d"
      },
      "source": [
        "gamers_perspective_df"
      ],
      "execution_count": 313,
      "outputs": [
        {
          "output_type": "execute_result",
          "data": {
            "text/html": [
              "<div>\n",
              "<style scoped>\n",
              "    .dataframe tbody tr th:only-of-type {\n",
              "        vertical-align: middle;\n",
              "    }\n",
              "\n",
              "    .dataframe tbody tr th {\n",
              "        vertical-align: top;\n",
              "    }\n",
              "\n",
              "    .dataframe thead th {\n",
              "        text-align: right;\n",
              "    }\n",
              "</style>\n",
              "<table border=\"1\" class=\"dataframe\">\n",
              "  <thead>\n",
              "    <tr style=\"text-align: right;\">\n",
              "      <th></th>\n",
              "      <th>Timestamp</th>\n",
              "      <th>The use of this survey is clear to me and I give my consent for handling my data.</th>\n",
              "      <th>Name</th>\n",
              "      <th>Age</th>\n",
              "      <th>Gender</th>\n",
              "      <th>1. How often do you play online games?</th>\n",
              "      <th>2. Have you experienced being trash talked by other players while playing online games?</th>\n",
              "      <th>3. If you answered yes in no. 2, what do you usually feel when being trash talked by someone? (select all that apply)</th>\n",
              "      <th>4. If you answered yes in no.2, what action(s) do you usually take?</th>\n",
              "      <th>5. If you answered yes in no. 2, did any of your in-game trash talking experience escalate to a physical fight?</th>\n",
              "      <th>6. Have you ever trash talked someone while playing online games?</th>\n",
              "      <th>7. If you answered yes in no.6, what are your reasons for doing so? (Select all that apply)</th>\n",
              "      <th>Whenever a teammate is playing poorly, you tend to call them names or curse at them out of frustration.</th>\n",
              "      <th>Trash talking among players is an essential part of multiplayer gaming culture.</th>\n",
              "      <th>Trash talking gives thrill and excitement to the players during the game.</th>\n",
              "      <th>Trash talking influences the way you act towards other people.</th>\n",
              "      <th>Trash talking can be considered as a form of strategy or gaming tactics.</th>\n",
              "      <th>Trash talking competitor players provides a sense of power and freedom</th>\n",
              "      <th>Trash talking in online games is a form of harassment</th>\n",
              "      <th>Trash talking can be both friendly and toxic.</th>\n",
              "      <th>Trash talking in online game is just another form of showing competitiveness.</th>\n",
              "      <th>Receiving trash talks from other players can negatively affect one’s gaming performance.</th>\n",
              "    </tr>\n",
              "  </thead>\n",
              "  <tbody>\n",
              "    <tr>\n",
              "      <th>0</th>\n",
              "      <td>2021/04/28 12:47:21 AM GMT+8</td>\n",
              "      <td>Yes</td>\n",
              "      <td>Jasmine Clare B. Padilla</td>\n",
              "      <td>22</td>\n",
              "      <td>Female</td>\n",
              "      <td>Yes</td>\n",
              "      <td>Yes</td>\n",
              "      <td>Angry;Disheartened;Embarrassed;Entertained</td>\n",
              "      <td>Trash talk back to that player;Laugh at it</td>\n",
              "      <td>No</td>\n",
              "      <td>No</td>\n",
              "      <td>NaN</td>\n",
              "      <td>4</td>\n",
              "      <td>2</td>\n",
              "      <td>2</td>\n",
              "      <td>5</td>\n",
              "      <td>2</td>\n",
              "      <td>2</td>\n",
              "      <td>2</td>\n",
              "      <td>2</td>\n",
              "      <td>2</td>\n",
              "      <td>2</td>\n",
              "    </tr>\n",
              "    <tr>\n",
              "      <th>1</th>\n",
              "      <td>2021/04/28 12:50:17 AM GMT+8</td>\n",
              "      <td>Yes</td>\n",
              "      <td>Reyes, Adrian Philipp</td>\n",
              "      <td>20</td>\n",
              "      <td>Male</td>\n",
              "      <td>Yes</td>\n",
              "      <td>Yes</td>\n",
              "      <td>Angry;Motivated;Entertained</td>\n",
              "      <td>Ignore it;Report the player;Trash talk back to...</td>\n",
              "      <td>No</td>\n",
              "      <td>Yes</td>\n",
              "      <td>Annoyed by someone’s poor gaming performance;T...</td>\n",
              "      <td>2</td>\n",
              "      <td>1</td>\n",
              "      <td>1</td>\n",
              "      <td>2</td>\n",
              "      <td>2</td>\n",
              "      <td>2</td>\n",
              "      <td>1</td>\n",
              "      <td>1</td>\n",
              "      <td>2</td>\n",
              "      <td>1</td>\n",
              "    </tr>\n",
              "    <tr>\n",
              "      <th>2</th>\n",
              "      <td>2021/04/28 12:57:07 AM GMT+8</td>\n",
              "      <td>Yes</td>\n",
              "      <td>ADRIAN</td>\n",
              "      <td>21</td>\n",
              "      <td>Male</td>\n",
              "      <td>Always</td>\n",
              "      <td>Yes</td>\n",
              "      <td>Entertained</td>\n",
              "      <td>NaN</td>\n",
              "      <td>No</td>\n",
              "      <td>Yes</td>\n",
              "      <td>To distract them;It heightens the fun</td>\n",
              "      <td>3</td>\n",
              "      <td>4</td>\n",
              "      <td>3</td>\n",
              "      <td>3</td>\n",
              "      <td>3</td>\n",
              "      <td>3</td>\n",
              "      <td>3</td>\n",
              "      <td>1</td>\n",
              "      <td>4</td>\n",
              "      <td>3</td>\n",
              "    </tr>\n",
              "    <tr>\n",
              "      <th>3</th>\n",
              "      <td>2021/04/28 12:57:40 AM GMT+8</td>\n",
              "      <td>Yes</td>\n",
              "      <td>Charles cordero</td>\n",
              "      <td>21</td>\n",
              "      <td>Male</td>\n",
              "      <td>Always</td>\n",
              "      <td>Yes</td>\n",
              "      <td>Motivated;Entertained</td>\n",
              "      <td>Ignore it;Report the player;Trash talk back to...</td>\n",
              "      <td>No</td>\n",
              "      <td>Yes</td>\n",
              "      <td>Annoyed by someone’s poor gaming performance;T...</td>\n",
              "      <td>3</td>\n",
              "      <td>3</td>\n",
              "      <td>5</td>\n",
              "      <td>1</td>\n",
              "      <td>2</td>\n",
              "      <td>5</td>\n",
              "      <td>1</td>\n",
              "      <td>1</td>\n",
              "      <td>5</td>\n",
              "      <td>1</td>\n",
              "    </tr>\n",
              "    <tr>\n",
              "      <th>4</th>\n",
              "      <td>2021/04/28 12:59:17 AM GMT+8</td>\n",
              "      <td>Yes</td>\n",
              "      <td>Philip Julrenz A. Pionelo</td>\n",
              "      <td>21</td>\n",
              "      <td>Male</td>\n",
              "      <td>Always</td>\n",
              "      <td>Yes</td>\n",
              "      <td>Angry;Sad;Disheartened;Embarrassed;Motivated;E...</td>\n",
              "      <td>Ignore it;Report the player;Laugh at it</td>\n",
              "      <td>NaN</td>\n",
              "      <td>No</td>\n",
              "      <td>NaN</td>\n",
              "      <td>5</td>\n",
              "      <td>4</td>\n",
              "      <td>4</td>\n",
              "      <td>1</td>\n",
              "      <td>5</td>\n",
              "      <td>5</td>\n",
              "      <td>3</td>\n",
              "      <td>3</td>\n",
              "      <td>5</td>\n",
              "      <td>2</td>\n",
              "    </tr>\n",
              "    <tr>\n",
              "      <th>...</th>\n",
              "      <td>...</td>\n",
              "      <td>...</td>\n",
              "      <td>...</td>\n",
              "      <td>...</td>\n",
              "      <td>...</td>\n",
              "      <td>...</td>\n",
              "      <td>...</td>\n",
              "      <td>...</td>\n",
              "      <td>...</td>\n",
              "      <td>...</td>\n",
              "      <td>...</td>\n",
              "      <td>...</td>\n",
              "      <td>...</td>\n",
              "      <td>...</td>\n",
              "      <td>...</td>\n",
              "      <td>...</td>\n",
              "      <td>...</td>\n",
              "      <td>...</td>\n",
              "      <td>...</td>\n",
              "      <td>...</td>\n",
              "      <td>...</td>\n",
              "      <td>...</td>\n",
              "    </tr>\n",
              "    <tr>\n",
              "      <th>220</th>\n",
              "      <td>2021/04/28 11:05:47 PM GMT+8</td>\n",
              "      <td>Yes</td>\n",
              "      <td>Maria Elizah T. Porcado</td>\n",
              "      <td>20</td>\n",
              "      <td>Female</td>\n",
              "      <td>Often</td>\n",
              "      <td>Yes</td>\n",
              "      <td>Angry;Entertained</td>\n",
              "      <td>Ignore it;Report the player;Trash talk back to...</td>\n",
              "      <td>No</td>\n",
              "      <td>Yes</td>\n",
              "      <td>Annoyed by someone’s poor gaming performance;I...</td>\n",
              "      <td>1</td>\n",
              "      <td>2</td>\n",
              "      <td>1</td>\n",
              "      <td>5</td>\n",
              "      <td>5</td>\n",
              "      <td>1</td>\n",
              "      <td>2</td>\n",
              "      <td>1</td>\n",
              "      <td>5</td>\n",
              "      <td>3</td>\n",
              "    </tr>\n",
              "    <tr>\n",
              "      <th>221</th>\n",
              "      <td>2021/04/28 11:15:18 PM GMT+8</td>\n",
              "      <td>Yes</td>\n",
              "      <td>Alyza Santiago</td>\n",
              "      <td>21</td>\n",
              "      <td>Female</td>\n",
              "      <td>Often</td>\n",
              "      <td>Yes</td>\n",
              "      <td>Angry;Entertained</td>\n",
              "      <td>Report the player;Trash talk back to that play...</td>\n",
              "      <td>No</td>\n",
              "      <td>Yes</td>\n",
              "      <td>Annoyed by someone’s poor gaming performance;I...</td>\n",
              "      <td>2</td>\n",
              "      <td>3</td>\n",
              "      <td>2</td>\n",
              "      <td>2</td>\n",
              "      <td>3</td>\n",
              "      <td>2</td>\n",
              "      <td>1</td>\n",
              "      <td>2</td>\n",
              "      <td>3</td>\n",
              "      <td>1</td>\n",
              "    </tr>\n",
              "    <tr>\n",
              "      <th>222</th>\n",
              "      <td>2021/04/29 12:42:10 AM GMT+8</td>\n",
              "      <td>Yes</td>\n",
              "      <td>Benz Ocampo</td>\n",
              "      <td>21</td>\n",
              "      <td>Male</td>\n",
              "      <td>Always</td>\n",
              "      <td>Yes</td>\n",
              "      <td>Angry;Sad;Disheartened</td>\n",
              "      <td>Ignore it;Report the player;Trash talk back to...</td>\n",
              "      <td>No</td>\n",
              "      <td>No</td>\n",
              "      <td>NaN</td>\n",
              "      <td>5</td>\n",
              "      <td>5</td>\n",
              "      <td>5</td>\n",
              "      <td>2</td>\n",
              "      <td>5</td>\n",
              "      <td>5</td>\n",
              "      <td>2</td>\n",
              "      <td>3</td>\n",
              "      <td>3</td>\n",
              "      <td>2</td>\n",
              "    </tr>\n",
              "    <tr>\n",
              "      <th>223</th>\n",
              "      <td>2021/04/29 12:54:12 AM GMT+8</td>\n",
              "      <td>Yes</td>\n",
              "      <td>John Rey</td>\n",
              "      <td>21</td>\n",
              "      <td>Male</td>\n",
              "      <td>Always</td>\n",
              "      <td>Yes</td>\n",
              "      <td>Motivated</td>\n",
              "      <td>Trash talk back to that player;Laugh at it</td>\n",
              "      <td>No</td>\n",
              "      <td>Yes</td>\n",
              "      <td>Annoyed by someone’s poor gaming performance;I...</td>\n",
              "      <td>4</td>\n",
              "      <td>2</td>\n",
              "      <td>2</td>\n",
              "      <td>3</td>\n",
              "      <td>3</td>\n",
              "      <td>3</td>\n",
              "      <td>3</td>\n",
              "      <td>2</td>\n",
              "      <td>2</td>\n",
              "      <td>3</td>\n",
              "    </tr>\n",
              "    <tr>\n",
              "      <th>224</th>\n",
              "      <td>2021/04/29 1:50:19 AM GMT+8</td>\n",
              "      <td>Yes</td>\n",
              "      <td>Christian Ramirez</td>\n",
              "      <td>21</td>\n",
              "      <td>Male</td>\n",
              "      <td>Often</td>\n",
              "      <td>Yes</td>\n",
              "      <td>Angry;Motivated;Entertained</td>\n",
              "      <td>Report the player;Laugh at it</td>\n",
              "      <td>No</td>\n",
              "      <td>Yes</td>\n",
              "      <td>Annoyed by someone’s poor gaming performance</td>\n",
              "      <td>2</td>\n",
              "      <td>3</td>\n",
              "      <td>3</td>\n",
              "      <td>2</td>\n",
              "      <td>3</td>\n",
              "      <td>3</td>\n",
              "      <td>1</td>\n",
              "      <td>3</td>\n",
              "      <td>3</td>\n",
              "      <td>2</td>\n",
              "    </tr>\n",
              "  </tbody>\n",
              "</table>\n",
              "<p>225 rows × 22 columns</p>\n",
              "</div>"
            ],
            "text/plain": [
              "                        Timestamp  ... Receiving trash talks from other players can negatively affect one’s gaming performance.\n",
              "0    2021/04/28 12:47:21 AM GMT+8  ...                                                  2                                      \n",
              "1    2021/04/28 12:50:17 AM GMT+8  ...                                                  1                                      \n",
              "2    2021/04/28 12:57:07 AM GMT+8  ...                                                  3                                      \n",
              "3    2021/04/28 12:57:40 AM GMT+8  ...                                                  1                                      \n",
              "4    2021/04/28 12:59:17 AM GMT+8  ...                                                  2                                      \n",
              "..                            ...  ...                                                ...                                      \n",
              "220  2021/04/28 11:05:47 PM GMT+8  ...                                                  3                                      \n",
              "221  2021/04/28 11:15:18 PM GMT+8  ...                                                  1                                      \n",
              "222  2021/04/29 12:42:10 AM GMT+8  ...                                                  2                                      \n",
              "223  2021/04/29 12:54:12 AM GMT+8  ...                                                  3                                      \n",
              "224   2021/04/29 1:50:19 AM GMT+8  ...                                                  2                                      \n",
              "\n",
              "[225 rows x 22 columns]"
            ]
          },
          "metadata": {
            "tags": []
          },
          "execution_count": 313
        }
      ]
    },
    {
      "cell_type": "code",
      "metadata": {
        "colab": {
          "base_uri": "https://localhost:8080/",
          "height": 702
        },
        "id": "PvMRpfnS6oTS",
        "outputId": "70e26217-881c-4e0a-9f43-08a1ab0df0d1"
      },
      "source": [
        "gamers_perspective_df.head(5)"
      ],
      "execution_count": 314,
      "outputs": [
        {
          "output_type": "execute_result",
          "data": {
            "text/html": [
              "<div>\n",
              "<style scoped>\n",
              "    .dataframe tbody tr th:only-of-type {\n",
              "        vertical-align: middle;\n",
              "    }\n",
              "\n",
              "    .dataframe tbody tr th {\n",
              "        vertical-align: top;\n",
              "    }\n",
              "\n",
              "    .dataframe thead th {\n",
              "        text-align: right;\n",
              "    }\n",
              "</style>\n",
              "<table border=\"1\" class=\"dataframe\">\n",
              "  <thead>\n",
              "    <tr style=\"text-align: right;\">\n",
              "      <th></th>\n",
              "      <th>Timestamp</th>\n",
              "      <th>The use of this survey is clear to me and I give my consent for handling my data.</th>\n",
              "      <th>Name</th>\n",
              "      <th>Age</th>\n",
              "      <th>Gender</th>\n",
              "      <th>1. How often do you play online games?</th>\n",
              "      <th>2. Have you experienced being trash talked by other players while playing online games?</th>\n",
              "      <th>3. If you answered yes in no. 2, what do you usually feel when being trash talked by someone? (select all that apply)</th>\n",
              "      <th>4. If you answered yes in no.2, what action(s) do you usually take?</th>\n",
              "      <th>5. If you answered yes in no. 2, did any of your in-game trash talking experience escalate to a physical fight?</th>\n",
              "      <th>6. Have you ever trash talked someone while playing online games?</th>\n",
              "      <th>7. If you answered yes in no.6, what are your reasons for doing so? (Select all that apply)</th>\n",
              "      <th>Whenever a teammate is playing poorly, you tend to call them names or curse at them out of frustration.</th>\n",
              "      <th>Trash talking among players is an essential part of multiplayer gaming culture.</th>\n",
              "      <th>Trash talking gives thrill and excitement to the players during the game.</th>\n",
              "      <th>Trash talking influences the way you act towards other people.</th>\n",
              "      <th>Trash talking can be considered as a form of strategy or gaming tactics.</th>\n",
              "      <th>Trash talking competitor players provides a sense of power and freedom</th>\n",
              "      <th>Trash talking in online games is a form of harassment</th>\n",
              "      <th>Trash talking can be both friendly and toxic.</th>\n",
              "      <th>Trash talking in online game is just another form of showing competitiveness.</th>\n",
              "      <th>Receiving trash talks from other players can negatively affect one’s gaming performance.</th>\n",
              "    </tr>\n",
              "  </thead>\n",
              "  <tbody>\n",
              "    <tr>\n",
              "      <th>0</th>\n",
              "      <td>2021/04/28 12:47:21 AM GMT+8</td>\n",
              "      <td>Yes</td>\n",
              "      <td>Jasmine Clare B. Padilla</td>\n",
              "      <td>22</td>\n",
              "      <td>Female</td>\n",
              "      <td>Yes</td>\n",
              "      <td>Yes</td>\n",
              "      <td>Angry;Disheartened;Embarrassed;Entertained</td>\n",
              "      <td>Trash talk back to that player;Laugh at it</td>\n",
              "      <td>No</td>\n",
              "      <td>No</td>\n",
              "      <td>NaN</td>\n",
              "      <td>4</td>\n",
              "      <td>2</td>\n",
              "      <td>2</td>\n",
              "      <td>5</td>\n",
              "      <td>2</td>\n",
              "      <td>2</td>\n",
              "      <td>2</td>\n",
              "      <td>2</td>\n",
              "      <td>2</td>\n",
              "      <td>2</td>\n",
              "    </tr>\n",
              "    <tr>\n",
              "      <th>1</th>\n",
              "      <td>2021/04/28 12:50:17 AM GMT+8</td>\n",
              "      <td>Yes</td>\n",
              "      <td>Reyes, Adrian Philipp</td>\n",
              "      <td>20</td>\n",
              "      <td>Male</td>\n",
              "      <td>Yes</td>\n",
              "      <td>Yes</td>\n",
              "      <td>Angry;Motivated;Entertained</td>\n",
              "      <td>Ignore it;Report the player;Trash talk back to...</td>\n",
              "      <td>No</td>\n",
              "      <td>Yes</td>\n",
              "      <td>Annoyed by someone’s poor gaming performance;T...</td>\n",
              "      <td>2</td>\n",
              "      <td>1</td>\n",
              "      <td>1</td>\n",
              "      <td>2</td>\n",
              "      <td>2</td>\n",
              "      <td>2</td>\n",
              "      <td>1</td>\n",
              "      <td>1</td>\n",
              "      <td>2</td>\n",
              "      <td>1</td>\n",
              "    </tr>\n",
              "    <tr>\n",
              "      <th>2</th>\n",
              "      <td>2021/04/28 12:57:07 AM GMT+8</td>\n",
              "      <td>Yes</td>\n",
              "      <td>ADRIAN</td>\n",
              "      <td>21</td>\n",
              "      <td>Male</td>\n",
              "      <td>Always</td>\n",
              "      <td>Yes</td>\n",
              "      <td>Entertained</td>\n",
              "      <td>NaN</td>\n",
              "      <td>No</td>\n",
              "      <td>Yes</td>\n",
              "      <td>To distract them;It heightens the fun</td>\n",
              "      <td>3</td>\n",
              "      <td>4</td>\n",
              "      <td>3</td>\n",
              "      <td>3</td>\n",
              "      <td>3</td>\n",
              "      <td>3</td>\n",
              "      <td>3</td>\n",
              "      <td>1</td>\n",
              "      <td>4</td>\n",
              "      <td>3</td>\n",
              "    </tr>\n",
              "    <tr>\n",
              "      <th>3</th>\n",
              "      <td>2021/04/28 12:57:40 AM GMT+8</td>\n",
              "      <td>Yes</td>\n",
              "      <td>Charles cordero</td>\n",
              "      <td>21</td>\n",
              "      <td>Male</td>\n",
              "      <td>Always</td>\n",
              "      <td>Yes</td>\n",
              "      <td>Motivated;Entertained</td>\n",
              "      <td>Ignore it;Report the player;Trash talk back to...</td>\n",
              "      <td>No</td>\n",
              "      <td>Yes</td>\n",
              "      <td>Annoyed by someone’s poor gaming performance;T...</td>\n",
              "      <td>3</td>\n",
              "      <td>3</td>\n",
              "      <td>5</td>\n",
              "      <td>1</td>\n",
              "      <td>2</td>\n",
              "      <td>5</td>\n",
              "      <td>1</td>\n",
              "      <td>1</td>\n",
              "      <td>5</td>\n",
              "      <td>1</td>\n",
              "    </tr>\n",
              "    <tr>\n",
              "      <th>4</th>\n",
              "      <td>2021/04/28 12:59:17 AM GMT+8</td>\n",
              "      <td>Yes</td>\n",
              "      <td>Philip Julrenz A. Pionelo</td>\n",
              "      <td>21</td>\n",
              "      <td>Male</td>\n",
              "      <td>Always</td>\n",
              "      <td>Yes</td>\n",
              "      <td>Angry;Sad;Disheartened;Embarrassed;Motivated;E...</td>\n",
              "      <td>Ignore it;Report the player;Laugh at it</td>\n",
              "      <td>NaN</td>\n",
              "      <td>No</td>\n",
              "      <td>NaN</td>\n",
              "      <td>5</td>\n",
              "      <td>4</td>\n",
              "      <td>4</td>\n",
              "      <td>1</td>\n",
              "      <td>5</td>\n",
              "      <td>5</td>\n",
              "      <td>3</td>\n",
              "      <td>3</td>\n",
              "      <td>5</td>\n",
              "      <td>2</td>\n",
              "    </tr>\n",
              "  </tbody>\n",
              "</table>\n",
              "</div>"
            ],
            "text/plain": [
              "                      Timestamp  ... Receiving trash talks from other players can negatively affect one’s gaming performance.\n",
              "0  2021/04/28 12:47:21 AM GMT+8  ...                                                  2                                      \n",
              "1  2021/04/28 12:50:17 AM GMT+8  ...                                                  1                                      \n",
              "2  2021/04/28 12:57:07 AM GMT+8  ...                                                  3                                      \n",
              "3  2021/04/28 12:57:40 AM GMT+8  ...                                                  1                                      \n",
              "4  2021/04/28 12:59:17 AM GMT+8  ...                                                  2                                      \n",
              "\n",
              "[5 rows x 22 columns]"
            ]
          },
          "metadata": {
            "tags": []
          },
          "execution_count": 314
        }
      ]
    },
    {
      "cell_type": "markdown",
      "metadata": {
        "id": "nmxfCiUhN4rH"
      },
      "source": [
        "#Cleaning of Data\n",
        "In this section, certain data might be removed or modified in order to remove irrelevant data to the study. \n",
        "\n"
      ]
    },
    {
      "cell_type": "code",
      "metadata": {
        "id": "JhXDm4z28R3R"
      },
      "source": [
        "# The researchers will be creating a back up file before changing anything to the dataset \n",
        "trashtalk_df = gamers_perspective_df.copy()"
      ],
      "execution_count": 315,
      "outputs": []
    },
    {
      "cell_type": "markdown",
      "metadata": {
        "id": "spnNNKmIyjng"
      },
      "source": [
        "####Eliminating features (column)"
      ]
    },
    {
      "cell_type": "code",
      "metadata": {
        "id": "aFpAasSpAc03"
      },
      "source": [
        "# The first and second coulmn was removed [Timestamp and the Consent form]\n",
        "trashtalk_df.drop(['Timestamp'], axis=1, inplace = True)\n",
        "trashtalk_df.drop(['The use of this survey is clear to me and I give my consent for handling my data. '], axis=1,inplace = True)"
      ],
      "execution_count": 316,
      "outputs": []
    },
    {
      "cell_type": "code",
      "metadata": {
        "id": "6YnhoXRyd9rn"
      },
      "source": [
        "# Removing some features that were collected using a likert scale\n",
        "trashtalk_df.drop(['Whenever a teammate is playing poorly, you tend to call them names or curse at them out of frustration.'], axis=1, inplace = True)\n",
        "trashtalk_df.drop(['Trash talking influences the way you act towards other people.'], axis=1, inplace = True)\n",
        "trashtalk_df.drop(['Trash talking in online game is just another form of showing competitiveness.'], axis=1, inplace = True)\n",
        "trashtalk_df.drop(['Trash talking competitor players provides a sense of power and freedom '], axis=1, inplace = True)"
      ],
      "execution_count": 317,
      "outputs": []
    },
    {
      "cell_type": "code",
      "metadata": {
        "colab": {
          "base_uri": "https://localhost:8080/",
          "height": 366
        },
        "id": "ADm7DM3Uf6zW",
        "outputId": "c06cac56-57d4-489b-96ac-ec3f78a20ae9"
      },
      "source": [
        "trashtalk_df.head(1)"
      ],
      "execution_count": 318,
      "outputs": [
        {
          "output_type": "execute_result",
          "data": {
            "text/html": [
              "<div>\n",
              "<style scoped>\n",
              "    .dataframe tbody tr th:only-of-type {\n",
              "        vertical-align: middle;\n",
              "    }\n",
              "\n",
              "    .dataframe tbody tr th {\n",
              "        vertical-align: top;\n",
              "    }\n",
              "\n",
              "    .dataframe thead th {\n",
              "        text-align: right;\n",
              "    }\n",
              "</style>\n",
              "<table border=\"1\" class=\"dataframe\">\n",
              "  <thead>\n",
              "    <tr style=\"text-align: right;\">\n",
              "      <th></th>\n",
              "      <th>Name</th>\n",
              "      <th>Age</th>\n",
              "      <th>Gender</th>\n",
              "      <th>1. How often do you play online games?</th>\n",
              "      <th>2. Have you experienced being trash talked by other players while playing online games?</th>\n",
              "      <th>3. If you answered yes in no. 2, what do you usually feel when being trash talked by someone? (select all that apply)</th>\n",
              "      <th>4. If you answered yes in no.2, what action(s) do you usually take?</th>\n",
              "      <th>5. If you answered yes in no. 2, did any of your in-game trash talking experience escalate to a physical fight?</th>\n",
              "      <th>6. Have you ever trash talked someone while playing online games?</th>\n",
              "      <th>7. If you answered yes in no.6, what are your reasons for doing so? (Select all that apply)</th>\n",
              "      <th>Trash talking among players is an essential part of multiplayer gaming culture.</th>\n",
              "      <th>Trash talking gives thrill and excitement to the players during the game.</th>\n",
              "      <th>Trash talking can be considered as a form of strategy or gaming tactics.</th>\n",
              "      <th>Trash talking in online games is a form of harassment</th>\n",
              "      <th>Trash talking can be both friendly and toxic.</th>\n",
              "      <th>Receiving trash talks from other players can negatively affect one’s gaming performance.</th>\n",
              "    </tr>\n",
              "  </thead>\n",
              "  <tbody>\n",
              "    <tr>\n",
              "      <th>0</th>\n",
              "      <td>Jasmine Clare B. Padilla</td>\n",
              "      <td>22</td>\n",
              "      <td>Female</td>\n",
              "      <td>Yes</td>\n",
              "      <td>Yes</td>\n",
              "      <td>Angry;Disheartened;Embarrassed;Entertained</td>\n",
              "      <td>Trash talk back to that player;Laugh at it</td>\n",
              "      <td>No</td>\n",
              "      <td>No</td>\n",
              "      <td>NaN</td>\n",
              "      <td>2</td>\n",
              "      <td>2</td>\n",
              "      <td>2</td>\n",
              "      <td>2</td>\n",
              "      <td>2</td>\n",
              "      <td>2</td>\n",
              "    </tr>\n",
              "  </tbody>\n",
              "</table>\n",
              "</div>"
            ],
            "text/plain": [
              "                       Name   ... Receiving trash talks from other players can negatively affect one’s gaming performance.\n",
              "0  Jasmine Clare B. Padilla   ...                                                  2                                      \n",
              "\n",
              "[1 rows x 16 columns]"
            ]
          },
          "metadata": {
            "tags": []
          },
          "execution_count": 318
        }
      ]
    },
    {
      "cell_type": "markdown",
      "metadata": {
        "id": "6iuwXqZjyw8S"
      },
      "source": [
        "####Eliminating some of the records (rows)"
      ]
    },
    {
      "cell_type": "code",
      "metadata": {
        "id": "Txbjkj3dvBe9"
      },
      "source": [
        "#The researchers decided to drop records of respondents who have no experience \n",
        "#of being trashtalked by other players.\n",
        "q2_df = trashtalk_df['2. Have you experienced being trash talked by other players while playing online games?']"
      ],
      "execution_count": 319,
      "outputs": []
    },
    {
      "cell_type": "code",
      "metadata": {
        "colab": {
          "base_uri": "https://localhost:8080/"
        },
        "id": "BfPbgdj4tmlB",
        "outputId": "3ab65255-a8f7-4153-cf13-40f75422ec0d"
      },
      "source": [
        "q2_df.loc[73],q2_df.loc[77], q2_df.loc[160], q2_df.loc[166], q2_df.loc[169], q2_df.loc[172], q2_df.loc[174]"
      ],
      "execution_count": 320,
      "outputs": [
        {
          "output_type": "execute_result",
          "data": {
            "text/plain": [
              "('No', 'No', 'No', 'No', 'No', 'No', 'No')"
            ]
          },
          "metadata": {
            "tags": []
          },
          "execution_count": 320
        }
      ]
    },
    {
      "cell_type": "code",
      "metadata": {
        "id": "1P0XbV4zv04k"
      },
      "source": [
        "q2_df.drop(labels=73, axis=0, inplace=True)\n",
        "q2_df.drop(labels=77, axis=0, inplace=True)\n",
        "q2_df.drop(labels=160, axis=0, inplace=True)\n",
        "q2_df.drop(labels=166, axis=0, inplace=True)\n",
        "q2_df.drop(labels=169, axis=0, inplace=True)\n",
        "q2_df.drop(labels=172, axis=0, inplace=True)\n",
        "q2_df.drop(labels=174, axis=0, inplace=True)"
      ],
      "execution_count": 321,
      "outputs": []
    },
    {
      "cell_type": "code",
      "metadata": {
        "id": "FuyaKDkdVI_j",
        "colab": {
          "base_uri": "https://localhost:8080/",
          "height": 35
        },
        "outputId": "d08495ae-7574-43a4-b987-4f5e73f56aa1"
      },
      "source": [
        "trashtalk_df.loc[65]['Age']"
      ],
      "execution_count": 322,
      "outputs": [
        {
          "output_type": "execute_result",
          "data": {
            "application/vnd.google.colaboratory.intrinsic+json": {
              "type": "string"
            },
            "text/plain": [
              "'MALVAR'"
            ]
          },
          "metadata": {
            "tags": []
          },
          "execution_count": 322
        }
      ]
    },
    {
      "cell_type": "code",
      "metadata": {
        "id": "5A6LR3QwN1Bq"
      },
      "source": [
        "#The researchers decided to remove the 65th recorded response from the dataset for the reason that \n",
        "# the respondent inputted \"MALVAR\" as his age and didn't select an answer for the 3rd question.\n",
        "trashtalk_df.drop(labels=65, axis=0, inplace=True)"
      ],
      "execution_count": 323,
      "outputs": []
    },
    {
      "cell_type": "code",
      "metadata": {
        "id": "MuVft5beRLxx",
        "colab": {
          "base_uri": "https://localhost:8080/",
          "height": 446
        },
        "outputId": "1df80341-fcbc-48e8-dc5a-c66706443682"
      },
      "source": [
        "trashtalk_df.loc[64:66]"
      ],
      "execution_count": 324,
      "outputs": [
        {
          "output_type": "execute_result",
          "data": {
            "text/html": [
              "<div>\n",
              "<style scoped>\n",
              "    .dataframe tbody tr th:only-of-type {\n",
              "        vertical-align: middle;\n",
              "    }\n",
              "\n",
              "    .dataframe tbody tr th {\n",
              "        vertical-align: top;\n",
              "    }\n",
              "\n",
              "    .dataframe thead th {\n",
              "        text-align: right;\n",
              "    }\n",
              "</style>\n",
              "<table border=\"1\" class=\"dataframe\">\n",
              "  <thead>\n",
              "    <tr style=\"text-align: right;\">\n",
              "      <th></th>\n",
              "      <th>Name</th>\n",
              "      <th>Age</th>\n",
              "      <th>Gender</th>\n",
              "      <th>1. How often do you play online games?</th>\n",
              "      <th>2. Have you experienced being trash talked by other players while playing online games?</th>\n",
              "      <th>3. If you answered yes in no. 2, what do you usually feel when being trash talked by someone? (select all that apply)</th>\n",
              "      <th>4. If you answered yes in no.2, what action(s) do you usually take?</th>\n",
              "      <th>5. If you answered yes in no. 2, did any of your in-game trash talking experience escalate to a physical fight?</th>\n",
              "      <th>6. Have you ever trash talked someone while playing online games?</th>\n",
              "      <th>7. If you answered yes in no.6, what are your reasons for doing so? (Select all that apply)</th>\n",
              "      <th>Trash talking among players is an essential part of multiplayer gaming culture.</th>\n",
              "      <th>Trash talking gives thrill and excitement to the players during the game.</th>\n",
              "      <th>Trash talking can be considered as a form of strategy or gaming tactics.</th>\n",
              "      <th>Trash talking in online games is a form of harassment</th>\n",
              "      <th>Trash talking can be both friendly and toxic.</th>\n",
              "      <th>Receiving trash talks from other players can negatively affect one’s gaming performance.</th>\n",
              "    </tr>\n",
              "  </thead>\n",
              "  <tbody>\n",
              "    <tr>\n",
              "      <th>64</th>\n",
              "      <td>Karl mathew</td>\n",
              "      <td>21</td>\n",
              "      <td>Male</td>\n",
              "      <td>Always</td>\n",
              "      <td>Yes</td>\n",
              "      <td>Entertained</td>\n",
              "      <td>Ignore it;Laugh at it</td>\n",
              "      <td>No</td>\n",
              "      <td>Yes</td>\n",
              "      <td>Annoyed by someone’s poor gaming performance;T...</td>\n",
              "      <td>2</td>\n",
              "      <td>2</td>\n",
              "      <td>1</td>\n",
              "      <td>3</td>\n",
              "      <td>2</td>\n",
              "      <td>2</td>\n",
              "    </tr>\n",
              "    <tr>\n",
              "      <th>66</th>\n",
              "      <td>Ayen Quiñones</td>\n",
              "      <td>17</td>\n",
              "      <td>Male</td>\n",
              "      <td>Always</td>\n",
              "      <td>Yes</td>\n",
              "      <td>Angry;Sad;Disheartened;Embarrassed;Motivated;E...</td>\n",
              "      <td>Ignore it;Report the player;Trash talk back to...</td>\n",
              "      <td>No</td>\n",
              "      <td>Yes</td>\n",
              "      <td>Annoyed by someone’s poor gaming performance;T...</td>\n",
              "      <td>1</td>\n",
              "      <td>4</td>\n",
              "      <td>1</td>\n",
              "      <td>2</td>\n",
              "      <td>1</td>\n",
              "      <td>1</td>\n",
              "    </tr>\n",
              "  </tbody>\n",
              "</table>\n",
              "</div>"
            ],
            "text/plain": [
              "            Name   ... Receiving trash talks from other players can negatively affect one’s gaming performance.\n",
              "64    Karl mathew  ...                                                  2                                      \n",
              "66  Ayen Quiñones  ...                                                  1                                      \n",
              "\n",
              "[2 rows x 16 columns]"
            ]
          },
          "metadata": {
            "tags": []
          },
          "execution_count": 324
        }
      ]
    },
    {
      "cell_type": "markdown",
      "metadata": {
        "id": "9u8jYmuWzXlW"
      },
      "source": [
        "####Modifying some of the responses (removing irrelevant characters, combining similar answers)"
      ]
    },
    {
      "cell_type": "code",
      "metadata": {
        "id": "3itsqA_39QYb",
        "colab": {
          "base_uri": "https://localhost:8080/"
        },
        "outputId": "3837846d-eb9a-4f9d-ac8f-9d6c52c77f42"
      },
      "source": [
        "# The first two responses came from the researchers, they suggested that question #1 should be changed. \n",
        "# Hence, the first two responses for question #1  will be modified accordingly. \n",
        "trashtalk_modify_YES = (trashtalk_df['1. How often do you play online games?'][0]) = 'Often'\n",
        "trashtalk_modify_YES2 = (trashtalk_df['1. How often do you play online games?'][1]) = 'Always'\n",
        "trashtalk_df['1. How often do you play online games?'][0] = trashtalk_modify_YES\n",
        "trashtalk_df['1. How often do you play online games?'][1] = trashtalk_modify_YES2"
      ],
      "execution_count": 325,
      "outputs": [
        {
          "output_type": "stream",
          "text": [
            "/usr/local/lib/python3.7/dist-packages/ipykernel_launcher.py:3: SettingWithCopyWarning: \n",
            "A value is trying to be set on a copy of a slice from a DataFrame\n",
            "\n",
            "See the caveats in the documentation: https://pandas.pydata.org/pandas-docs/stable/user_guide/indexing.html#returning-a-view-versus-a-copy\n",
            "  This is separate from the ipykernel package so we can avoid doing imports until\n",
            "/usr/local/lib/python3.7/dist-packages/ipykernel_launcher.py:4: SettingWithCopyWarning: \n",
            "A value is trying to be set on a copy of a slice from a DataFrame\n",
            "\n",
            "See the caveats in the documentation: https://pandas.pydata.org/pandas-docs/stable/user_guide/indexing.html#returning-a-view-versus-a-copy\n",
            "  after removing the cwd from sys.path.\n",
            "/usr/local/lib/python3.7/dist-packages/ipykernel_launcher.py:5: SettingWithCopyWarning: \n",
            "A value is trying to be set on a copy of a slice from a DataFrame\n",
            "\n",
            "See the caveats in the documentation: https://pandas.pydata.org/pandas-docs/stable/user_guide/indexing.html#returning-a-view-versus-a-copy\n",
            "  \"\"\"\n",
            "/usr/local/lib/python3.7/dist-packages/ipykernel_launcher.py:6: SettingWithCopyWarning: \n",
            "A value is trying to be set on a copy of a slice from a DataFrame\n",
            "\n",
            "See the caveats in the documentation: https://pandas.pydata.org/pandas-docs/stable/user_guide/indexing.html#returning-a-view-versus-a-copy\n",
            "  \n"
          ],
          "name": "stderr"
        }
      ]
    },
    {
      "cell_type": "code",
      "metadata": {
        "id": "LUViYq9LNYr1",
        "colab": {
          "base_uri": "https://localhost:8080/",
          "height": 0
        },
        "outputId": "3274e07b-62cd-4a37-e9e6-4f73dd693ce3"
      },
      "source": [
        "trashtalk_df.head(2)"
      ],
      "execution_count": 326,
      "outputs": [
        {
          "output_type": "execute_result",
          "data": {
            "text/html": [
              "<div>\n",
              "<style scoped>\n",
              "    .dataframe tbody tr th:only-of-type {\n",
              "        vertical-align: middle;\n",
              "    }\n",
              "\n",
              "    .dataframe tbody tr th {\n",
              "        vertical-align: top;\n",
              "    }\n",
              "\n",
              "    .dataframe thead th {\n",
              "        text-align: right;\n",
              "    }\n",
              "</style>\n",
              "<table border=\"1\" class=\"dataframe\">\n",
              "  <thead>\n",
              "    <tr style=\"text-align: right;\">\n",
              "      <th></th>\n",
              "      <th>Name</th>\n",
              "      <th>Age</th>\n",
              "      <th>Gender</th>\n",
              "      <th>1. How often do you play online games?</th>\n",
              "      <th>2. Have you experienced being trash talked by other players while playing online games?</th>\n",
              "      <th>3. If you answered yes in no. 2, what do you usually feel when being trash talked by someone? (select all that apply)</th>\n",
              "      <th>4. If you answered yes in no.2, what action(s) do you usually take?</th>\n",
              "      <th>5. If you answered yes in no. 2, did any of your in-game trash talking experience escalate to a physical fight?</th>\n",
              "      <th>6. Have you ever trash talked someone while playing online games?</th>\n",
              "      <th>7. If you answered yes in no.6, what are your reasons for doing so? (Select all that apply)</th>\n",
              "      <th>Trash talking among players is an essential part of multiplayer gaming culture.</th>\n",
              "      <th>Trash talking gives thrill and excitement to the players during the game.</th>\n",
              "      <th>Trash talking can be considered as a form of strategy or gaming tactics.</th>\n",
              "      <th>Trash talking in online games is a form of harassment</th>\n",
              "      <th>Trash talking can be both friendly and toxic.</th>\n",
              "      <th>Receiving trash talks from other players can negatively affect one’s gaming performance.</th>\n",
              "    </tr>\n",
              "  </thead>\n",
              "  <tbody>\n",
              "    <tr>\n",
              "      <th>0</th>\n",
              "      <td>Jasmine Clare B. Padilla</td>\n",
              "      <td>22</td>\n",
              "      <td>Female</td>\n",
              "      <td>Often</td>\n",
              "      <td>Yes</td>\n",
              "      <td>Angry;Disheartened;Embarrassed;Entertained</td>\n",
              "      <td>Trash talk back to that player;Laugh at it</td>\n",
              "      <td>No</td>\n",
              "      <td>No</td>\n",
              "      <td>NaN</td>\n",
              "      <td>2</td>\n",
              "      <td>2</td>\n",
              "      <td>2</td>\n",
              "      <td>2</td>\n",
              "      <td>2</td>\n",
              "      <td>2</td>\n",
              "    </tr>\n",
              "    <tr>\n",
              "      <th>1</th>\n",
              "      <td>Reyes, Adrian Philipp</td>\n",
              "      <td>20</td>\n",
              "      <td>Male</td>\n",
              "      <td>Always</td>\n",
              "      <td>Yes</td>\n",
              "      <td>Angry;Motivated;Entertained</td>\n",
              "      <td>Ignore it;Report the player;Trash talk back to...</td>\n",
              "      <td>No</td>\n",
              "      <td>Yes</td>\n",
              "      <td>Annoyed by someone’s poor gaming performance;T...</td>\n",
              "      <td>1</td>\n",
              "      <td>1</td>\n",
              "      <td>2</td>\n",
              "      <td>1</td>\n",
              "      <td>1</td>\n",
              "      <td>1</td>\n",
              "    </tr>\n",
              "  </tbody>\n",
              "</table>\n",
              "</div>"
            ],
            "text/plain": [
              "                       Name   ... Receiving trash talks from other players can negatively affect one’s gaming performance.\n",
              "0  Jasmine Clare B. Padilla   ...                                                  2                                      \n",
              "1      Reyes, Adrian Philipp  ...                                                  1                                      \n",
              "\n",
              "[2 rows x 16 columns]"
            ]
          },
          "metadata": {
            "tags": []
          },
          "execution_count": 326
        }
      ]
    },
    {
      "cell_type": "code",
      "metadata": {
        "colab": {
          "base_uri": "https://localhost:8080/"
        },
        "id": "2TQs9eCzSbxQ",
        "outputId": "6e92a669-d045-4c61-832f-aa2ee11707ad"
      },
      "source": [
        "trashtalk_df.loc[138]['Age'], trashtalk_df.loc[156]['Age'], "
      ],
      "execution_count": 327,
      "outputs": [
        {
          "output_type": "execute_result",
          "data": {
            "text/plain": [
              "('18 Years old', '16 years old')"
            ]
          },
          "metadata": {
            "tags": []
          },
          "execution_count": 327
        }
      ]
    },
    {
      "cell_type": "code",
      "metadata": {
        "id": "aB8lcEv0SCkG"
      },
      "source": [
        "# removing \"y/Years old\" string in AGE column\n",
        "trashtalk_df['Age'] = trashtalk_df['Age'].map(lambda x: x.rstrip('yYears old'))"
      ],
      "execution_count": 328,
      "outputs": []
    },
    {
      "cell_type": "code",
      "metadata": {
        "colab": {
          "base_uri": "https://localhost:8080/"
        },
        "id": "1T5bT2eATtfn",
        "outputId": "c34d1f11-7dba-4df7-c56d-78f2547de9c9"
      },
      "source": [
        "trashtalk_df.loc[138]['Age'], trashtalk_df.loc[156]['Age']"
      ],
      "execution_count": 329,
      "outputs": [
        {
          "output_type": "execute_result",
          "data": {
            "text/plain": [
              "('18', '16')"
            ]
          },
          "metadata": {
            "tags": []
          },
          "execution_count": 329
        }
      ]
    },
    {
      "cell_type": "code",
      "metadata": {
        "id": "WZ6P2qGqlP9n"
      },
      "source": [
        "#Question number 3 is an open-ended question. Some inputted responses are similar to or hold similar meaning\n",
        "# with some of the inputted answers or the given set of choices (ex. someone inputted 'Amused' which is similar to Entertained trashtalkq3_df)\n",
        "q3_df = trashtalk_df['3. If you answered yes in no. 2, what do you usually feel when being trash talked by someone? (select all that apply) ']\n"
      ],
      "execution_count": 330,
      "outputs": []
    },
    {
      "cell_type": "code",
      "metadata": {
        "colab": {
          "base_uri": "https://localhost:8080/"
        },
        "id": "zzePjHLptjni",
        "outputId": "ff9253ce-7d18-44aa-9ee4-0d8aa7bade18"
      },
      "source": [
        "q3_df.loc[105], q3_df.loc[192], q3_df.loc[183], q3_df.loc[20], q3_df.loc[96], q3_df.loc[170], q3_df.loc[26], q3_df.loc[58]"
      ],
      "execution_count": 331,
      "outputs": [
        {
          "output_type": "execute_result",
          "data": {
            "text/plain": [
              "('Challenged',\n",
              " 'Angry;sometimes dedma',\n",
              " 'Angry;not that much',\n",
              " 'Entertained;indifferent',\n",
              " \"Don't care. I know I did my best, and toxic players decrease chance of winning.\",\n",
              " 'Motivated;Entertained;Amused',\n",
              " 'Angry;Disheartened;Embarrassed;Motivated;Entertained;Salty',\n",
              " 'Annoyed/nababastos ako madalas hahaha')"
            ]
          },
          "metadata": {
            "tags": []
          },
          "execution_count": 331
        }
      ]
    },
    {
      "cell_type": "code",
      "metadata": {
        "id": "cH0AYyP7tUsK",
        "colab": {
          "base_uri": "https://localhost:8080/"
        },
        "outputId": "b72a7d85-06b9-4f96-e7cf-5da216bf8a38"
      },
      "source": [
        "q3_dclean = (q3_df.loc[105]) = 'Motivated'\n",
        "q3_dclean = (q3_df.loc[192]) = 'Angry;Nothing'\n",
        "q3_dclean = (q3_df.loc[183]) = 'Angry;Nothing'\n",
        "q3_dclean = (q3_df.loc[20]) = 'Entertained;Nothing'\n",
        "q3_dclean = (q3_df.loc[96]) = 'Nothing'\n",
        "q3_dclean = (q3_df.loc[170]) = 'Motivated;Entertained'\n",
        "q3_dclean = (q3_df.loc[26]) = 'Angry;Disheartened;Embarrassed;Motivated;Entertained'\n",
        "q3_dclean = (q3_df.loc[58]) = 'Annoyed'"
      ],
      "execution_count": 332,
      "outputs": [
        {
          "output_type": "stream",
          "text": [
            "/usr/local/lib/python3.7/dist-packages/pandas/core/indexing.py:670: SettingWithCopyWarning: \n",
            "A value is trying to be set on a copy of a slice from a DataFrame\n",
            "\n",
            "See the caveats in the documentation: https://pandas.pydata.org/pandas-docs/stable/user_guide/indexing.html#returning-a-view-versus-a-copy\n",
            "  iloc._setitem_with_indexer(indexer, value)\n"
          ],
          "name": "stderr"
        }
      ]
    },
    {
      "cell_type": "code",
      "metadata": {
        "colab": {
          "base_uri": "https://localhost:8080/"
        },
        "id": "eX_qE_2s4gsH",
        "outputId": "e548db49-169a-4d45-ad37-afb06b0dd601"
      },
      "source": [
        "q3_df.loc[105], q3_df.loc[192], q3_df.loc[183], q3_df.loc[20], q3_df.loc[96], q3_df.loc[170], q3_df.loc[26], q3_df.loc[58]"
      ],
      "execution_count": 333,
      "outputs": [
        {
          "output_type": "execute_result",
          "data": {
            "text/plain": [
              "('Motivated',\n",
              " 'Angry;Nothing',\n",
              " 'Angry;Nothing',\n",
              " 'Entertained;Nothing',\n",
              " 'Nothing',\n",
              " 'Motivated;Entertained',\n",
              " 'Angry;Disheartened;Embarrassed;Motivated;Entertained',\n",
              " 'Annoyed')"
            ]
          },
          "metadata": {
            "tags": []
          },
          "execution_count": 333
        }
      ]
    },
    {
      "cell_type": "code",
      "metadata": {
        "id": "DJCjkvlYkkBY"
      },
      "source": [
        "#Question number 4 involves a choice where respondents can put other actions they do if it is not in the choices. However, some of those holds similar meaning to the given actions.\n",
        "# with some of the inputted answers or the given set of choices (ex. someone inputted 'Amused' which is similar to Entertained trashtalkq3_df)\n",
        "q4_df = trashtalk_df['4. If you answered yes in no.2, what action(s) do you usually take?']"
      ],
      "execution_count": 334,
      "outputs": []
    },
    {
      "cell_type": "code",
      "metadata": {
        "colab": {
          "base_uri": "https://localhost:8080/"
        },
        "id": "sK_GEH9gmKPn",
        "outputId": "8b45287c-3d18-4d11-b6c5-e1b956a20d95"
      },
      "source": [
        "q4_df.loc[122], q4_df.loc[175]"
      ],
      "execution_count": 335,
      "outputs": [
        {
          "output_type": "execute_result",
          "data": {
            "text/plain": [
              "('Report the player;Trash talk back to that player;Usually depends upon the situation. When I am in a bad mood, I talk back to the player aggressively. When in good mood, I usually tell them not to be toxic and just play. If my teammate talks trash against me, I usually ignore them or induce their conscience. If an enemy talks trash, I mute them. I always report them.',\n",
              " 'Ignore it;Report the player;Trash talk back to that player;Laugh at it;iniignore ko lang yung trashtalk pag kulang ako sa oras hahaha pero legit nirereport ko ')"
            ]
          },
          "metadata": {
            "tags": []
          },
          "execution_count": 335
        }
      ]
    },
    {
      "cell_type": "code",
      "metadata": {
        "id": "MlJ0K83_s_sz",
        "colab": {
          "base_uri": "https://localhost:8080/"
        },
        "outputId": "47f3218a-d9e9-4aee-da51-59d9ede356e1"
      },
      "source": [
        "q4_dclean = (q4_df.loc[122]) = 'Report the player;Trash talk back to that player'\n",
        "q4_dclean = (q4_df.loc[175]) = 'Ignore it;Report the player;Trash talk back to that player;Laugh at it'"
      ],
      "execution_count": 336,
      "outputs": [
        {
          "output_type": "stream",
          "text": [
            "/usr/local/lib/python3.7/dist-packages/pandas/core/indexing.py:670: SettingWithCopyWarning: \n",
            "A value is trying to be set on a copy of a slice from a DataFrame\n",
            "\n",
            "See the caveats in the documentation: https://pandas.pydata.org/pandas-docs/stable/user_guide/indexing.html#returning-a-view-versus-a-copy\n",
            "  iloc._setitem_with_indexer(indexer, value)\n"
          ],
          "name": "stderr"
        }
      ]
    },
    {
      "cell_type": "code",
      "metadata": {
        "colab": {
          "base_uri": "https://localhost:8080/"
        },
        "id": "PKV1DRzrt2GD",
        "outputId": "8dbc857c-d75c-4f09-edac-e7480c9b4949"
      },
      "source": [
        "q4_df.loc[122], q4_df.loc[175]"
      ],
      "execution_count": 337,
      "outputs": [
        {
          "output_type": "execute_result",
          "data": {
            "text/plain": [
              "('Report the player;Trash talk back to that player',\n",
              " 'Ignore it;Report the player;Trash talk back to that player;Laugh at it')"
            ]
          },
          "metadata": {
            "tags": []
          },
          "execution_count": 337
        }
      ]
    },
    {
      "cell_type": "code",
      "metadata": {
        "id": "xJp4wumgVQsk",
        "colab": {
          "base_uri": "https://localhost:8080/",
          "height": 0
        },
        "outputId": "22aceb71-0058-4fe3-80e1-f763d0c7f1bb"
      },
      "source": [
        "q4_df.loc[87]"
      ],
      "execution_count": 338,
      "outputs": [
        {
          "output_type": "execute_result",
          "data": {
            "application/vnd.google.colaboratory.intrinsic+json": {
              "type": "string"
            },
            "text/plain": [
              "'Laugh at it;Revenge. Do the best that I can and win the game.'"
            ]
          },
          "metadata": {
            "tags": []
          },
          "execution_count": 338
        }
      ]
    },
    {
      "cell_type": "code",
      "metadata": {
        "id": "nl0rJ1RhVc25",
        "colab": {
          "base_uri": "https://localhost:8080/"
        },
        "outputId": "bb44675e-018c-46c6-fbc6-2f8995492d98"
      },
      "source": [
        "q4_dclean = (q4_df.loc[87]) = 'Laugh at it;Ignore it'"
      ],
      "execution_count": 339,
      "outputs": [
        {
          "output_type": "stream",
          "text": [
            "/usr/local/lib/python3.7/dist-packages/pandas/core/indexing.py:670: SettingWithCopyWarning: \n",
            "A value is trying to be set on a copy of a slice from a DataFrame\n",
            "\n",
            "See the caveats in the documentation: https://pandas.pydata.org/pandas-docs/stable/user_guide/indexing.html#returning-a-view-versus-a-copy\n",
            "  iloc._setitem_with_indexer(indexer, value)\n"
          ],
          "name": "stderr"
        }
      ]
    },
    {
      "cell_type": "code",
      "metadata": {
        "id": "c5ALn9_EVltI",
        "colab": {
          "base_uri": "https://localhost:8080/",
          "height": 0
        },
        "outputId": "d73be2b1-14f4-45ee-99ea-1527f60a372d"
      },
      "source": [
        "q4_df.loc[87]"
      ],
      "execution_count": 340,
      "outputs": [
        {
          "output_type": "execute_result",
          "data": {
            "application/vnd.google.colaboratory.intrinsic+json": {
              "type": "string"
            },
            "text/plain": [
              "'Laugh at it;Ignore it'"
            ]
          },
          "metadata": {
            "tags": []
          },
          "execution_count": 340
        }
      ]
    },
    {
      "cell_type": "code",
      "metadata": {
        "id": "lA3FjcH1uRo6"
      },
      "source": [
        "#Question number 7 involves a choice where respondents can put other actions they do if it is not in the choices. However, some of those holds similar meaning to the given actions.\n",
        "# with some of the inputted answers or the given set of choices (ex. someone inputted 'Amused' which is similar to Entertained trashtalkq3_df)\n",
        "q7_df = trashtalk_df['7. If you answered yes in no.6, what are your reasons for doing so? (Select all that apply) ']"
      ],
      "execution_count": 341,
      "outputs": []
    },
    {
      "cell_type": "code",
      "metadata": {
        "colab": {
          "base_uri": "https://localhost:8080/"
        },
        "id": "u88fyR1TvUHZ",
        "outputId": "ead0660c-3248-402b-ff29-800a527d8be8"
      },
      "source": [
        "q7_df.loc[47], q7_df.loc[28], q7_df.loc[57], q7_df.loc[58], q7_df.loc[75], q7_df.loc[87], q7_df.loc[111], q7_df.loc[122], q7_df.loc[175], q7_df.loc[179], q7_df.loc[184], q7_df.loc[196], q7_df.loc[20], q7_df.loc[109], q7_df.loc[149], q7_df.loc[183]"
      ],
      "execution_count": 342,
      "outputs": [
        {
          "output_type": "execute_result",
          "data": {
            "text/plain": [
              "(\"I just trash talk players who does it first. Also, when I'm triggered by their badmouthing. Sometimes, they just need to get a taste of their own medicine.\",\n",
              " 'Only when someone trash talked me',\n",
              " 'It heightens the fun;To assert my competitiveness;Because he/she is my close friend',\n",
              " 'Naka off-mic naman ako saka di ko chinachat so ako lang nakakaalam na trinatrasvtk ko na sila counted ba yun hhahahahahha',\n",
              " 'Annoyed by someone’s poor gaming performance;It heightens the fun;Trashtalk back at them ',\n",
              " \"It heightens the fun;Basically, I'm just giving back the trashtalk that they gave to me.\",\n",
              " 'If they talk trash to me first, i will fight back.',\n",
              " 'I only talk trash when they talked trash against me first.',\n",
              " 'tinatrashtalk ko lang yung mga nang tatrashtalk sakin or sa mga kasama ko mag laro ',\n",
              " 'It heightens the fun;If they trashtalk first',\n",
              " 'When they started it.',\n",
              " 'Annoyed by someone’s poor gaming performance;To distract them;It heightens the fun;To assert my competitiveness;Fight Back lol, your not a weakling xD',\n",
              " \"I know the person so I'm just kidding him/her\",\n",
              " \"Annoyed by someone’s poor gaming performance;It heightens the fun;it's plain banter if with friends\",\n",
              " 'Annoyed by someone’s poor gaming performance;to hype the game',\n",
              " 'It heightens the fun;To assert my competitiveness;tilting the player to ensure the win')"
            ]
          },
          "metadata": {
            "tags": []
          },
          "execution_count": 342
        }
      ]
    },
    {
      "cell_type": "code",
      "metadata": {
        "id": "u96j6oZM1uhT",
        "colab": {
          "base_uri": "https://localhost:8080/"
        },
        "outputId": "1a3f8d38-1284-402e-8b0c-ddbfa87aa0bb"
      },
      "source": [
        "q7_dclean = (q7_df.loc[47]) = 'The other player did it first'\n",
        "q7_dclean = (q7_df.loc[28]) = 'The other player did it first'\n",
        "q7_dclean = (q7_df.loc[57]) = 'It heightens the fun;To assert my competitiveness;I know the person so Im just kidding him/her'\n",
        "q7_dclean = (q7_df.loc[58]) = 'The other player did it first'\n",
        "q7_dclean = (q7_df.loc[75]) = 'Annoyed by someone’s poor gaming performance;It heightens the fun;The other player did it first'\n",
        "q7_dclean = (q7_df.loc[87]) = \"It heightens the fun;Trash talk back to the player\"\n",
        "q7_dclean = (q7_df.loc[111]) = 'The other player did it first'\n",
        "q7_dclean = (q7_df.loc[122]) = 'The other player did it first'\n",
        "q7_dclean = (q7_df.loc[175]) = 'The other player did it first;I know the person Im just kidding him/her'\n",
        "q7_dclean = (q7_df.loc[179]) = 'It heightens the fun;Trash talk back to the player'\n",
        "q7_dclean = (q7_df.loc[184]) = 'The other player did it first'\n",
        "q7_dclean = (q7_df.loc[196]) = 'Annoyed by someone’s poor gaming performance;To distract them;It heightens the fun;To assert my competitiveness;Trash talk back to the player'\n",
        "q7_dclean = (q7_df.loc[20]) = \"I know the person so I'm just kidding him/her\"\n",
        "q7_dclean = (q7_df.loc[109]) = \"Annoyed by someone’s poor gaming performance;It heightens the fun;I know the person Im just kidding him/her\"\n",
        "q7_dclean = (q7_df.loc[149]) = 'Annoyed by someone’s poor gaming performance;It heightens the fun'\n",
        "q7_dclean = (q7_df.loc[183]) = 'It heightens the fun;To assert my competitiveness'"
      ],
      "execution_count": 343,
      "outputs": [
        {
          "output_type": "stream",
          "text": [
            "/usr/local/lib/python3.7/dist-packages/pandas/core/indexing.py:670: SettingWithCopyWarning: \n",
            "A value is trying to be set on a copy of a slice from a DataFrame\n",
            "\n",
            "See the caveats in the documentation: https://pandas.pydata.org/pandas-docs/stable/user_guide/indexing.html#returning-a-view-versus-a-copy\n",
            "  iloc._setitem_with_indexer(indexer, value)\n"
          ],
          "name": "stderr"
        }
      ]
    },
    {
      "cell_type": "code",
      "metadata": {
        "colab": {
          "base_uri": "https://localhost:8080/"
        },
        "id": "_T_Yx4Fm4-lc",
        "outputId": "6fc28c6c-9a1e-49ee-9edd-0045cb874613"
      },
      "source": [
        "q7_df.loc[47], q7_df.loc[28], q7_df.loc[57], q7_df.loc[58], q7_df.loc[75], q7_df.loc[87], q7_df.loc[111], q7_df.loc[122], q7_df.loc[175], q7_df.loc[179], q7_df.loc[184], q7_df.loc[196], q7_df.loc[20], q7_df.loc[109], q7_df.loc[149], q7_df.loc[183]"
      ],
      "execution_count": 344,
      "outputs": [
        {
          "output_type": "execute_result",
          "data": {
            "text/plain": [
              "('The other player did it first',\n",
              " 'The other player did it first',\n",
              " 'It heightens the fun;To assert my competitiveness;I know the person so Im just kidding him/her',\n",
              " 'The other player did it first',\n",
              " 'Annoyed by someone’s poor gaming performance;It heightens the fun;The other player did it first',\n",
              " 'It heightens the fun;Trash talk back to the player',\n",
              " 'The other player did it first',\n",
              " 'The other player did it first',\n",
              " 'The other player did it first;I know the person Im just kidding him/her',\n",
              " 'It heightens the fun;Trash talk back to the player',\n",
              " 'The other player did it first',\n",
              " 'Annoyed by someone’s poor gaming performance;To distract them;It heightens the fun;To assert my competitiveness;Trash talk back to the player',\n",
              " \"I know the person so I'm just kidding him/her\",\n",
              " 'Annoyed by someone’s poor gaming performance;It heightens the fun;I know the person Im just kidding him/her',\n",
              " 'Annoyed by someone’s poor gaming performance;It heightens the fun',\n",
              " 'It heightens the fun;To assert my competitiveness')"
            ]
          },
          "metadata": {
            "tags": []
          },
          "execution_count": 344
        }
      ]
    },
    {
      "cell_type": "markdown",
      "metadata": {
        "id": "oxeA4Vsw-jAm"
      },
      "source": [
        "###REPLACING NAN VALUES"
      ]
    },
    {
      "cell_type": "code",
      "metadata": {
        "id": "iDBlkTdO5TXv",
        "colab": {
          "base_uri": "https://localhost:8080/",
          "height": 1000
        },
        "outputId": "dba0c961-40ef-4536-b289-f9e7dc4def11"
      },
      "source": [
        "#Locating NaN values all over the dataset\n",
        "is_NaN = trashtalk_df.isnull()\n",
        "row_has_NaN = is_NaN.any(axis=1)\n",
        "rows_with_NaN = trashtalk_df[row_has_NaN]\n",
        "rows_with_NaN"
      ],
      "execution_count": 345,
      "outputs": [
        {
          "output_type": "execute_result",
          "data": {
            "text/html": [
              "<div>\n",
              "<style scoped>\n",
              "    .dataframe tbody tr th:only-of-type {\n",
              "        vertical-align: middle;\n",
              "    }\n",
              "\n",
              "    .dataframe tbody tr th {\n",
              "        vertical-align: top;\n",
              "    }\n",
              "\n",
              "    .dataframe thead th {\n",
              "        text-align: right;\n",
              "    }\n",
              "</style>\n",
              "<table border=\"1\" class=\"dataframe\">\n",
              "  <thead>\n",
              "    <tr style=\"text-align: right;\">\n",
              "      <th></th>\n",
              "      <th>Name</th>\n",
              "      <th>Age</th>\n",
              "      <th>Gender</th>\n",
              "      <th>1. How often do you play online games?</th>\n",
              "      <th>2. Have you experienced being trash talked by other players while playing online games?</th>\n",
              "      <th>3. If you answered yes in no. 2, what do you usually feel when being trash talked by someone? (select all that apply)</th>\n",
              "      <th>4. If you answered yes in no.2, what action(s) do you usually take?</th>\n",
              "      <th>5. If you answered yes in no. 2, did any of your in-game trash talking experience escalate to a physical fight?</th>\n",
              "      <th>6. Have you ever trash talked someone while playing online games?</th>\n",
              "      <th>7. If you answered yes in no.6, what are your reasons for doing so? (Select all that apply)</th>\n",
              "      <th>Trash talking among players is an essential part of multiplayer gaming culture.</th>\n",
              "      <th>Trash talking gives thrill and excitement to the players during the game.</th>\n",
              "      <th>Trash talking can be considered as a form of strategy or gaming tactics.</th>\n",
              "      <th>Trash talking in online games is a form of harassment</th>\n",
              "      <th>Trash talking can be both friendly and toxic.</th>\n",
              "      <th>Receiving trash talks from other players can negatively affect one’s gaming performance.</th>\n",
              "    </tr>\n",
              "  </thead>\n",
              "  <tbody>\n",
              "    <tr>\n",
              "      <th>0</th>\n",
              "      <td>Jasmine Clare B. Padilla</td>\n",
              "      <td>22</td>\n",
              "      <td>Female</td>\n",
              "      <td>Often</td>\n",
              "      <td>Yes</td>\n",
              "      <td>Angry;Disheartened;Embarrassed;Entertained</td>\n",
              "      <td>Trash talk back to that player;Laugh at it</td>\n",
              "      <td>No</td>\n",
              "      <td>No</td>\n",
              "      <td>NaN</td>\n",
              "      <td>2</td>\n",
              "      <td>2</td>\n",
              "      <td>2</td>\n",
              "      <td>2</td>\n",
              "      <td>2</td>\n",
              "      <td>2</td>\n",
              "    </tr>\n",
              "    <tr>\n",
              "      <th>2</th>\n",
              "      <td>ADRIAN</td>\n",
              "      <td>21</td>\n",
              "      <td>Male</td>\n",
              "      <td>Always</td>\n",
              "      <td>Yes</td>\n",
              "      <td>Entertained</td>\n",
              "      <td>NaN</td>\n",
              "      <td>No</td>\n",
              "      <td>Yes</td>\n",
              "      <td>To distract them;It heightens the fun</td>\n",
              "      <td>4</td>\n",
              "      <td>3</td>\n",
              "      <td>3</td>\n",
              "      <td>3</td>\n",
              "      <td>1</td>\n",
              "      <td>3</td>\n",
              "    </tr>\n",
              "    <tr>\n",
              "      <th>4</th>\n",
              "      <td>Philip Julrenz A. Pionelo</td>\n",
              "      <td>21</td>\n",
              "      <td>Male</td>\n",
              "      <td>Always</td>\n",
              "      <td>Yes</td>\n",
              "      <td>Angry;Sad;Disheartened;Embarrassed;Motivated;E...</td>\n",
              "      <td>Ignore it;Report the player;Laugh at it</td>\n",
              "      <td>NaN</td>\n",
              "      <td>No</td>\n",
              "      <td>NaN</td>\n",
              "      <td>4</td>\n",
              "      <td>4</td>\n",
              "      <td>5</td>\n",
              "      <td>3</td>\n",
              "      <td>3</td>\n",
              "      <td>2</td>\n",
              "    </tr>\n",
              "    <tr>\n",
              "      <th>7</th>\n",
              "      <td>Phil</td>\n",
              "      <td>18</td>\n",
              "      <td>Male</td>\n",
              "      <td>Often</td>\n",
              "      <td>Yes</td>\n",
              "      <td>Angry;Motivated</td>\n",
              "      <td>Ignore it;Report the player</td>\n",
              "      <td>No</td>\n",
              "      <td>No</td>\n",
              "      <td>NaN</td>\n",
              "      <td>4</td>\n",
              "      <td>4</td>\n",
              "      <td>4</td>\n",
              "      <td>5</td>\n",
              "      <td>5</td>\n",
              "      <td>5</td>\n",
              "    </tr>\n",
              "    <tr>\n",
              "      <th>10</th>\n",
              "      <td>Benedict</td>\n",
              "      <td>19</td>\n",
              "      <td>Male</td>\n",
              "      <td>Always</td>\n",
              "      <td>Yes</td>\n",
              "      <td>Angry;Disheartened;Embarrassed</td>\n",
              "      <td>NaN</td>\n",
              "      <td>No</td>\n",
              "      <td>Yes</td>\n",
              "      <td>Blaming me for not doing good, but he's not th...</td>\n",
              "      <td>3</td>\n",
              "      <td>2</td>\n",
              "      <td>2</td>\n",
              "      <td>2</td>\n",
              "      <td>2</td>\n",
              "      <td>2</td>\n",
              "    </tr>\n",
              "    <tr>\n",
              "      <th>21</th>\n",
              "      <td>Sofhia</td>\n",
              "      <td>21</td>\n",
              "      <td>Female</td>\n",
              "      <td>Always</td>\n",
              "      <td>Yes</td>\n",
              "      <td>Motivated;Entertained</td>\n",
              "      <td>NaN</td>\n",
              "      <td>No</td>\n",
              "      <td>No</td>\n",
              "      <td>NaN</td>\n",
              "      <td>3</td>\n",
              "      <td>4</td>\n",
              "      <td>4</td>\n",
              "      <td>1</td>\n",
              "      <td>3</td>\n",
              "      <td>1</td>\n",
              "    </tr>\n",
              "    <tr>\n",
              "      <th>28</th>\n",
              "      <td>Ed Mark David</td>\n",
              "      <td>21</td>\n",
              "      <td>Male</td>\n",
              "      <td>Often</td>\n",
              "      <td>Yes</td>\n",
              "      <td>Angry;Disheartened;Motivated</td>\n",
              "      <td>Ignore it;Report the player;Trash talk back to...</td>\n",
              "      <td>NaN</td>\n",
              "      <td>Yes</td>\n",
              "      <td>The other player did it first</td>\n",
              "      <td>5</td>\n",
              "      <td>3</td>\n",
              "      <td>3</td>\n",
              "      <td>2</td>\n",
              "      <td>2</td>\n",
              "      <td>1</td>\n",
              "    </tr>\n",
              "    <tr>\n",
              "      <th>29</th>\n",
              "      <td>AJ</td>\n",
              "      <td>21</td>\n",
              "      <td>Female</td>\n",
              "      <td>Always</td>\n",
              "      <td>Yes</td>\n",
              "      <td>Disheartened;Embarrassed;Motivated;Entertained</td>\n",
              "      <td>Ignore it</td>\n",
              "      <td>No</td>\n",
              "      <td>No</td>\n",
              "      <td>NaN</td>\n",
              "      <td>5</td>\n",
              "      <td>4</td>\n",
              "      <td>3</td>\n",
              "      <td>1</td>\n",
              "      <td>3</td>\n",
              "      <td>2</td>\n",
              "    </tr>\n",
              "    <tr>\n",
              "      <th>33</th>\n",
              "      <td>Mirko Lawrence Panes</td>\n",
              "      <td>22</td>\n",
              "      <td>Male</td>\n",
              "      <td>Often</td>\n",
              "      <td>Yes</td>\n",
              "      <td>Entertained</td>\n",
              "      <td>NaN</td>\n",
              "      <td>No</td>\n",
              "      <td>Yes</td>\n",
              "      <td>It heightens the fun</td>\n",
              "      <td>1</td>\n",
              "      <td>1</td>\n",
              "      <td>1</td>\n",
              "      <td>5</td>\n",
              "      <td>1</td>\n",
              "      <td>5</td>\n",
              "    </tr>\n",
              "    <tr>\n",
              "      <th>43</th>\n",
              "      <td>Dean Adrian Estocapio</td>\n",
              "      <td>21</td>\n",
              "      <td>Male</td>\n",
              "      <td>Occasionally</td>\n",
              "      <td>Yes</td>\n",
              "      <td>Entertained</td>\n",
              "      <td>Ignore it</td>\n",
              "      <td>No</td>\n",
              "      <td>No</td>\n",
              "      <td>NaN</td>\n",
              "      <td>5</td>\n",
              "      <td>5</td>\n",
              "      <td>5</td>\n",
              "      <td>1</td>\n",
              "      <td>4</td>\n",
              "      <td>1</td>\n",
              "    </tr>\n",
              "    <tr>\n",
              "      <th>46</th>\n",
              "      <td>Justin Santelices</td>\n",
              "      <td>21</td>\n",
              "      <td>Male</td>\n",
              "      <td>Occasionally</td>\n",
              "      <td>Yes</td>\n",
              "      <td>Disheartened;Embarrassed</td>\n",
              "      <td>NaN</td>\n",
              "      <td>No</td>\n",
              "      <td>Yes</td>\n",
              "      <td>Annoyed by someone’s poor gaming performance</td>\n",
              "      <td>3</td>\n",
              "      <td>4</td>\n",
              "      <td>2</td>\n",
              "      <td>3</td>\n",
              "      <td>2</td>\n",
              "      <td>2</td>\n",
              "    </tr>\n",
              "    <tr>\n",
              "      <th>48</th>\n",
              "      <td>Chelcy Vergara</td>\n",
              "      <td>23</td>\n",
              "      <td>Female</td>\n",
              "      <td>Always</td>\n",
              "      <td>Yes</td>\n",
              "      <td>Angry;Sad;Disheartened;Embarrassed;Motivated;E...</td>\n",
              "      <td>Ignore it;Report the player;Trash talk back to...</td>\n",
              "      <td>No</td>\n",
              "      <td>No</td>\n",
              "      <td>NaN</td>\n",
              "      <td>5</td>\n",
              "      <td>5</td>\n",
              "      <td>5</td>\n",
              "      <td>1</td>\n",
              "      <td>3</td>\n",
              "      <td>1</td>\n",
              "    </tr>\n",
              "    <tr>\n",
              "      <th>50</th>\n",
              "      <td>Christian Bustamante</td>\n",
              "      <td>22</td>\n",
              "      <td>Male</td>\n",
              "      <td>Always</td>\n",
              "      <td>Yes</td>\n",
              "      <td>Angry;Embarrassed</td>\n",
              "      <td>Ignore it;Report the player;Laugh at it</td>\n",
              "      <td>No</td>\n",
              "      <td>No</td>\n",
              "      <td>NaN</td>\n",
              "      <td>2</td>\n",
              "      <td>5</td>\n",
              "      <td>5</td>\n",
              "      <td>3</td>\n",
              "      <td>2</td>\n",
              "      <td>1</td>\n",
              "    </tr>\n",
              "    <tr>\n",
              "      <th>53</th>\n",
              "      <td>Judith Portalito</td>\n",
              "      <td>17</td>\n",
              "      <td>Female</td>\n",
              "      <td>Always</td>\n",
              "      <td>Yes</td>\n",
              "      <td>Angry</td>\n",
              "      <td>Ignore it;Report the player;Laugh at it</td>\n",
              "      <td>No</td>\n",
              "      <td>No</td>\n",
              "      <td>NaN</td>\n",
              "      <td>5</td>\n",
              "      <td>5</td>\n",
              "      <td>5</td>\n",
              "      <td>3</td>\n",
              "      <td>4</td>\n",
              "      <td>1</td>\n",
              "    </tr>\n",
              "    <tr>\n",
              "      <th>54</th>\n",
              "      <td>Rosella Purawan</td>\n",
              "      <td>16</td>\n",
              "      <td>Female</td>\n",
              "      <td>Always</td>\n",
              "      <td>Yes</td>\n",
              "      <td>Angry;Embarrassed;Entertained</td>\n",
              "      <td>Ignore it;Report the player;Laugh at it</td>\n",
              "      <td>No</td>\n",
              "      <td>No</td>\n",
              "      <td>NaN</td>\n",
              "      <td>5</td>\n",
              "      <td>3</td>\n",
              "      <td>4</td>\n",
              "      <td>1</td>\n",
              "      <td>2</td>\n",
              "      <td>1</td>\n",
              "    </tr>\n",
              "    <tr>\n",
              "      <th>57</th>\n",
              "      <td>Guian</td>\n",
              "      <td>21</td>\n",
              "      <td>Male</td>\n",
              "      <td>Often</td>\n",
              "      <td>Yes</td>\n",
              "      <td>Angry;Motivated;Entertained</td>\n",
              "      <td>NaN</td>\n",
              "      <td>No</td>\n",
              "      <td>Yes</td>\n",
              "      <td>It heightens the fun;To assert my competitiven...</td>\n",
              "      <td>3</td>\n",
              "      <td>2</td>\n",
              "      <td>1</td>\n",
              "      <td>2</td>\n",
              "      <td>1</td>\n",
              "      <td>2</td>\n",
              "    </tr>\n",
              "    <tr>\n",
              "      <th>61</th>\n",
              "      <td>Guzman, Nicole Anne R.</td>\n",
              "      <td>20</td>\n",
              "      <td>Female</td>\n",
              "      <td>Often</td>\n",
              "      <td>Yes</td>\n",
              "      <td>Entertained</td>\n",
              "      <td>Laugh at it</td>\n",
              "      <td>No</td>\n",
              "      <td>No</td>\n",
              "      <td>NaN</td>\n",
              "      <td>5</td>\n",
              "      <td>5</td>\n",
              "      <td>3</td>\n",
              "      <td>5</td>\n",
              "      <td>4</td>\n",
              "      <td>2</td>\n",
              "    </tr>\n",
              "    <tr>\n",
              "      <th>63</th>\n",
              "      <td>Nicole Keith D. Vitales</td>\n",
              "      <td>19</td>\n",
              "      <td>Female</td>\n",
              "      <td>Sometimes</td>\n",
              "      <td>Yes</td>\n",
              "      <td>Angry;Sad;Disheartened;Embarrassed</td>\n",
              "      <td>Ignore it;Report the player</td>\n",
              "      <td>No</td>\n",
              "      <td>No</td>\n",
              "      <td>NaN</td>\n",
              "      <td>5</td>\n",
              "      <td>5</td>\n",
              "      <td>5</td>\n",
              "      <td>1</td>\n",
              "      <td>4</td>\n",
              "      <td>1</td>\n",
              "    </tr>\n",
              "    <tr>\n",
              "      <th>68</th>\n",
              "      <td>Carpio, John Icon V.</td>\n",
              "      <td>20</td>\n",
              "      <td>Male</td>\n",
              "      <td>Often</td>\n",
              "      <td>Yes</td>\n",
              "      <td>Motivated;Entertained</td>\n",
              "      <td>Ignore it;Laugh at it</td>\n",
              "      <td>No</td>\n",
              "      <td>No</td>\n",
              "      <td>NaN</td>\n",
              "      <td>1</td>\n",
              "      <td>5</td>\n",
              "      <td>3</td>\n",
              "      <td>3</td>\n",
              "      <td>3</td>\n",
              "      <td>2</td>\n",
              "    </tr>\n",
              "    <tr>\n",
              "      <th>73</th>\n",
              "      <td>Jamie</td>\n",
              "      <td>21</td>\n",
              "      <td>Female</td>\n",
              "      <td>Occasionally</td>\n",
              "      <td>No</td>\n",
              "      <td>NaN</td>\n",
              "      <td>NaN</td>\n",
              "      <td>NaN</td>\n",
              "      <td>No</td>\n",
              "      <td>NaN</td>\n",
              "      <td>4</td>\n",
              "      <td>5</td>\n",
              "      <td>4</td>\n",
              "      <td>1</td>\n",
              "      <td>3</td>\n",
              "      <td>1</td>\n",
              "    </tr>\n",
              "    <tr>\n",
              "      <th>77</th>\n",
              "      <td>Keziah Amamio</td>\n",
              "      <td>21</td>\n",
              "      <td>Female</td>\n",
              "      <td>Sometimes</td>\n",
              "      <td>No</td>\n",
              "      <td>NaN</td>\n",
              "      <td>NaN</td>\n",
              "      <td>NaN</td>\n",
              "      <td>No</td>\n",
              "      <td>NaN</td>\n",
              "      <td>3</td>\n",
              "      <td>4</td>\n",
              "      <td>4</td>\n",
              "      <td>2</td>\n",
              "      <td>2</td>\n",
              "      <td>2</td>\n",
              "    </tr>\n",
              "    <tr>\n",
              "      <th>81</th>\n",
              "      <td>Jann Lawrence M</td>\n",
              "      <td>21</td>\n",
              "      <td>Male</td>\n",
              "      <td>Often</td>\n",
              "      <td>Yes</td>\n",
              "      <td>Angry;Embarrassed</td>\n",
              "      <td>Ignore it;Report the player;Laugh at it</td>\n",
              "      <td>No</td>\n",
              "      <td>No</td>\n",
              "      <td>NaN</td>\n",
              "      <td>5</td>\n",
              "      <td>5</td>\n",
              "      <td>5</td>\n",
              "      <td>2</td>\n",
              "      <td>2</td>\n",
              "      <td>1</td>\n",
              "    </tr>\n",
              "    <tr>\n",
              "      <th>92</th>\n",
              "      <td>Ivan Santiago</td>\n",
              "      <td>21</td>\n",
              "      <td>Male</td>\n",
              "      <td>Often</td>\n",
              "      <td>Yes</td>\n",
              "      <td>Entertained</td>\n",
              "      <td>Laugh at it</td>\n",
              "      <td>No</td>\n",
              "      <td>No</td>\n",
              "      <td>NaN</td>\n",
              "      <td>3</td>\n",
              "      <td>2</td>\n",
              "      <td>2</td>\n",
              "      <td>1</td>\n",
              "      <td>1</td>\n",
              "      <td>2</td>\n",
              "    </tr>\n",
              "    <tr>\n",
              "      <th>97</th>\n",
              "      <td>Veronica Frances S. Baron</td>\n",
              "      <td>19</td>\n",
              "      <td>Female</td>\n",
              "      <td>Often</td>\n",
              "      <td>Yes</td>\n",
              "      <td>Disheartened;Embarrassed</td>\n",
              "      <td>Ignore it;Report the player</td>\n",
              "      <td>No</td>\n",
              "      <td>No</td>\n",
              "      <td>NaN</td>\n",
              "      <td>4</td>\n",
              "      <td>3</td>\n",
              "      <td>2</td>\n",
              "      <td>2</td>\n",
              "      <td>2</td>\n",
              "      <td>3</td>\n",
              "    </tr>\n",
              "    <tr>\n",
              "      <th>109</th>\n",
              "      <td>Emman Evangelista</td>\n",
              "      <td>19</td>\n",
              "      <td>Male</td>\n",
              "      <td>Sometimes</td>\n",
              "      <td>Yes</td>\n",
              "      <td>Embarrassed;Motivated;Entertained</td>\n",
              "      <td>NaN</td>\n",
              "      <td>No</td>\n",
              "      <td>Yes</td>\n",
              "      <td>Annoyed by someone’s poor gaming performance;I...</td>\n",
              "      <td>4</td>\n",
              "      <td>3</td>\n",
              "      <td>1</td>\n",
              "      <td>2</td>\n",
              "      <td>1</td>\n",
              "      <td>1</td>\n",
              "    </tr>\n",
              "    <tr>\n",
              "      <th>117</th>\n",
              "      <td>Catibog, Jan Irene V.</td>\n",
              "      <td>21</td>\n",
              "      <td>Female</td>\n",
              "      <td>Sometimes</td>\n",
              "      <td>Yes</td>\n",
              "      <td>Disheartened</td>\n",
              "      <td>Ignore it;Trash talk back to that player;Laugh...</td>\n",
              "      <td>No</td>\n",
              "      <td>No</td>\n",
              "      <td>NaN</td>\n",
              "      <td>5</td>\n",
              "      <td>5</td>\n",
              "      <td>5</td>\n",
              "      <td>1</td>\n",
              "      <td>1</td>\n",
              "      <td>5</td>\n",
              "    </tr>\n",
              "    <tr>\n",
              "      <th>119</th>\n",
              "      <td>Carlson Naval</td>\n",
              "      <td>22</td>\n",
              "      <td>Male</td>\n",
              "      <td>Often</td>\n",
              "      <td>Yes</td>\n",
              "      <td>Motivated;Entertained</td>\n",
              "      <td>NaN</td>\n",
              "      <td>No</td>\n",
              "      <td>Yes</td>\n",
              "      <td>To distract them;It heightens the fun</td>\n",
              "      <td>3</td>\n",
              "      <td>4</td>\n",
              "      <td>3</td>\n",
              "      <td>3</td>\n",
              "      <td>3</td>\n",
              "      <td>3</td>\n",
              "    </tr>\n",
              "    <tr>\n",
              "      <th>120</th>\n",
              "      <td>Layno, Melody Diana Kay</td>\n",
              "      <td>23</td>\n",
              "      <td>Female</td>\n",
              "      <td>Sometimes</td>\n",
              "      <td>Yes</td>\n",
              "      <td>Motivated</td>\n",
              "      <td>Ignore it</td>\n",
              "      <td>No</td>\n",
              "      <td>No</td>\n",
              "      <td>NaN</td>\n",
              "      <td>2</td>\n",
              "      <td>4</td>\n",
              "      <td>2</td>\n",
              "      <td>2</td>\n",
              "      <td>2</td>\n",
              "      <td>3</td>\n",
              "    </tr>\n",
              "    <tr>\n",
              "      <th>124</th>\n",
              "      <td>Andrei Talavera</td>\n",
              "      <td>21</td>\n",
              "      <td>Male</td>\n",
              "      <td>Occasionally</td>\n",
              "      <td>Yes</td>\n",
              "      <td>Angry;Motivated</td>\n",
              "      <td>Ignore it;Laugh at it</td>\n",
              "      <td>No</td>\n",
              "      <td>No</td>\n",
              "      <td>NaN</td>\n",
              "      <td>4</td>\n",
              "      <td>2</td>\n",
              "      <td>1</td>\n",
              "      <td>3</td>\n",
              "      <td>1</td>\n",
              "      <td>1</td>\n",
              "    </tr>\n",
              "    <tr>\n",
              "      <th>135</th>\n",
              "      <td>KLEIN YOUNG</td>\n",
              "      <td>21</td>\n",
              "      <td>Male</td>\n",
              "      <td>Occasionally</td>\n",
              "      <td>Yes</td>\n",
              "      <td>Angry;Entertained</td>\n",
              "      <td>Ignore it;Report the player</td>\n",
              "      <td>No</td>\n",
              "      <td>No</td>\n",
              "      <td>NaN</td>\n",
              "      <td>3</td>\n",
              "      <td>3</td>\n",
              "      <td>5</td>\n",
              "      <td>3</td>\n",
              "      <td>1</td>\n",
              "      <td>1</td>\n",
              "    </tr>\n",
              "    <tr>\n",
              "      <th>137</th>\n",
              "      <td>Eunice Jane Fernando</td>\n",
              "      <td>18</td>\n",
              "      <td>Female</td>\n",
              "      <td>Often</td>\n",
              "      <td>Yes</td>\n",
              "      <td>Angry;Sad;Disheartened;Embarrassed</td>\n",
              "      <td>Ignore it;Report the player</td>\n",
              "      <td>No</td>\n",
              "      <td>No</td>\n",
              "      <td>NaN</td>\n",
              "      <td>5</td>\n",
              "      <td>5</td>\n",
              "      <td>5</td>\n",
              "      <td>2</td>\n",
              "      <td>5</td>\n",
              "      <td>1</td>\n",
              "    </tr>\n",
              "    <tr>\n",
              "      <th>140</th>\n",
              "      <td>Mark Joseph Balongoy</td>\n",
              "      <td>17</td>\n",
              "      <td>Male</td>\n",
              "      <td>Always</td>\n",
              "      <td>Yes</td>\n",
              "      <td>Entertained</td>\n",
              "      <td>Ignore it;Report the player;Laugh at it</td>\n",
              "      <td>No</td>\n",
              "      <td>No</td>\n",
              "      <td>NaN</td>\n",
              "      <td>3</td>\n",
              "      <td>3</td>\n",
              "      <td>5</td>\n",
              "      <td>5</td>\n",
              "      <td>4</td>\n",
              "      <td>1</td>\n",
              "    </tr>\n",
              "    <tr>\n",
              "      <th>142</th>\n",
              "      <td>Romaica Ambida</td>\n",
              "      <td>21</td>\n",
              "      <td>Female</td>\n",
              "      <td>Always</td>\n",
              "      <td>Yes</td>\n",
              "      <td>Angry;Sad;Disheartened</td>\n",
              "      <td>Ignore it;Report the player;Trash talk back to...</td>\n",
              "      <td>No</td>\n",
              "      <td>No</td>\n",
              "      <td>NaN</td>\n",
              "      <td>5</td>\n",
              "      <td>5</td>\n",
              "      <td>5</td>\n",
              "      <td>1</td>\n",
              "      <td>3</td>\n",
              "      <td>1</td>\n",
              "    </tr>\n",
              "    <tr>\n",
              "      <th>153</th>\n",
              "      <td>Tutty</td>\n",
              "      <td>20</td>\n",
              "      <td>Female</td>\n",
              "      <td>Always</td>\n",
              "      <td>Yes</td>\n",
              "      <td>Sad</td>\n",
              "      <td>Report the player;Trash talk back to that player</td>\n",
              "      <td>NaN</td>\n",
              "      <td>Yes</td>\n",
              "      <td>Annoyed by someone’s poor gaming performance</td>\n",
              "      <td>4</td>\n",
              "      <td>5</td>\n",
              "      <td>3</td>\n",
              "      <td>1</td>\n",
              "      <td>3</td>\n",
              "      <td>2</td>\n",
              "    </tr>\n",
              "    <tr>\n",
              "      <th>160</th>\n",
              "      <td>minelle</td>\n",
              "      <td>21</td>\n",
              "      <td>Female</td>\n",
              "      <td>Always</td>\n",
              "      <td>No</td>\n",
              "      <td>NaN</td>\n",
              "      <td>NaN</td>\n",
              "      <td>NaN</td>\n",
              "      <td>No</td>\n",
              "      <td>NaN</td>\n",
              "      <td>4</td>\n",
              "      <td>4</td>\n",
              "      <td>4</td>\n",
              "      <td>1</td>\n",
              "      <td>5</td>\n",
              "      <td>2</td>\n",
              "    </tr>\n",
              "    <tr>\n",
              "      <th>162</th>\n",
              "      <td>Patriszia Runas</td>\n",
              "      <td>20</td>\n",
              "      <td>Female</td>\n",
              "      <td>Often</td>\n",
              "      <td>Yes</td>\n",
              "      <td>Angry;Sad;Disheartened</td>\n",
              "      <td>Ignore it;Report the player</td>\n",
              "      <td>No</td>\n",
              "      <td>No</td>\n",
              "      <td>NaN</td>\n",
              "      <td>5</td>\n",
              "      <td>5</td>\n",
              "      <td>2</td>\n",
              "      <td>1</td>\n",
              "      <td>2</td>\n",
              "      <td>1</td>\n",
              "    </tr>\n",
              "    <tr>\n",
              "      <th>166</th>\n",
              "      <td>Erika Zepeda</td>\n",
              "      <td>20</td>\n",
              "      <td>Female</td>\n",
              "      <td>Always</td>\n",
              "      <td>No</td>\n",
              "      <td>NaN</td>\n",
              "      <td>NaN</td>\n",
              "      <td>NaN</td>\n",
              "      <td>No</td>\n",
              "      <td>NaN</td>\n",
              "      <td>5</td>\n",
              "      <td>5</td>\n",
              "      <td>5</td>\n",
              "      <td>1</td>\n",
              "      <td>5</td>\n",
              "      <td>5</td>\n",
              "    </tr>\n",
              "    <tr>\n",
              "      <th>172</th>\n",
              "      <td>Phoenix Grande</td>\n",
              "      <td>21</td>\n",
              "      <td>Female</td>\n",
              "      <td>Sometimes</td>\n",
              "      <td>No</td>\n",
              "      <td>NaN</td>\n",
              "      <td>NaN</td>\n",
              "      <td>NaN</td>\n",
              "      <td>No</td>\n",
              "      <td>NaN</td>\n",
              "      <td>4</td>\n",
              "      <td>3</td>\n",
              "      <td>3</td>\n",
              "      <td>2</td>\n",
              "      <td>1</td>\n",
              "      <td>1</td>\n",
              "    </tr>\n",
              "    <tr>\n",
              "      <th>176</th>\n",
              "      <td>Michelle Cristine Cruz</td>\n",
              "      <td>23</td>\n",
              "      <td>Female</td>\n",
              "      <td>Always</td>\n",
              "      <td>Yes</td>\n",
              "      <td>Disheartened</td>\n",
              "      <td>Ignore it</td>\n",
              "      <td>No</td>\n",
              "      <td>No</td>\n",
              "      <td>NaN</td>\n",
              "      <td>5</td>\n",
              "      <td>5</td>\n",
              "      <td>5</td>\n",
              "      <td>1</td>\n",
              "      <td>3</td>\n",
              "      <td>1</td>\n",
              "    </tr>\n",
              "    <tr>\n",
              "      <th>177</th>\n",
              "      <td>Alyssa</td>\n",
              "      <td>24</td>\n",
              "      <td>Female</td>\n",
              "      <td>Always</td>\n",
              "      <td>Yes</td>\n",
              "      <td>Sad;Disheartened;Embarrassed</td>\n",
              "      <td>Ignore it;Trash talk back to that player</td>\n",
              "      <td>No</td>\n",
              "      <td>Yes</td>\n",
              "      <td>NaN</td>\n",
              "      <td>5</td>\n",
              "      <td>4</td>\n",
              "      <td>4</td>\n",
              "      <td>2</td>\n",
              "      <td>2</td>\n",
              "      <td>2</td>\n",
              "    </tr>\n",
              "    <tr>\n",
              "      <th>182</th>\n",
              "      <td>Sher Dumago</td>\n",
              "      <td>21</td>\n",
              "      <td>Queer</td>\n",
              "      <td>Often</td>\n",
              "      <td>Yes</td>\n",
              "      <td>Embarrassed;Motivated</td>\n",
              "      <td>Ignore it;Laugh at it</td>\n",
              "      <td>No</td>\n",
              "      <td>No</td>\n",
              "      <td>NaN</td>\n",
              "      <td>3</td>\n",
              "      <td>4</td>\n",
              "      <td>1</td>\n",
              "      <td>3</td>\n",
              "      <td>1</td>\n",
              "      <td>2</td>\n",
              "    </tr>\n",
              "    <tr>\n",
              "      <th>186</th>\n",
              "      <td>Mart Arvhin Penaverde</td>\n",
              "      <td>23</td>\n",
              "      <td>Male</td>\n",
              "      <td>Always</td>\n",
              "      <td>Yes</td>\n",
              "      <td>Angry;Sad;Embarrassed;Motivated</td>\n",
              "      <td>Ignore it</td>\n",
              "      <td>No</td>\n",
              "      <td>No</td>\n",
              "      <td>NaN</td>\n",
              "      <td>3</td>\n",
              "      <td>3</td>\n",
              "      <td>3</td>\n",
              "      <td>3</td>\n",
              "      <td>3</td>\n",
              "      <td>3</td>\n",
              "    </tr>\n",
              "    <tr>\n",
              "      <th>200</th>\n",
              "      <td>Christine</td>\n",
              "      <td>39</td>\n",
              "      <td>Female</td>\n",
              "      <td>Always</td>\n",
              "      <td>Yes</td>\n",
              "      <td>Angry;Embarrassed</td>\n",
              "      <td>Ignore it</td>\n",
              "      <td>No</td>\n",
              "      <td>No</td>\n",
              "      <td>NaN</td>\n",
              "      <td>5</td>\n",
              "      <td>5</td>\n",
              "      <td>5</td>\n",
              "      <td>1</td>\n",
              "      <td>5</td>\n",
              "      <td>1</td>\n",
              "    </tr>\n",
              "    <tr>\n",
              "      <th>205</th>\n",
              "      <td>Ja</td>\n",
              "      <td>21</td>\n",
              "      <td>Male</td>\n",
              "      <td>Sometimes</td>\n",
              "      <td>Yes</td>\n",
              "      <td>Angry;Sad;Disheartened;Entertained</td>\n",
              "      <td>Ignore it;Laugh at it</td>\n",
              "      <td>No</td>\n",
              "      <td>No</td>\n",
              "      <td>NaN</td>\n",
              "      <td>5</td>\n",
              "      <td>5</td>\n",
              "      <td>3</td>\n",
              "      <td>1</td>\n",
              "      <td>1</td>\n",
              "      <td>3</td>\n",
              "    </tr>\n",
              "    <tr>\n",
              "      <th>206</th>\n",
              "      <td>Antivola</td>\n",
              "      <td>19</td>\n",
              "      <td>Female</td>\n",
              "      <td>Sometimes</td>\n",
              "      <td>Yes</td>\n",
              "      <td>Sad;Disheartened;Embarrassed</td>\n",
              "      <td>Ignore it;Laugh at it</td>\n",
              "      <td>No</td>\n",
              "      <td>No</td>\n",
              "      <td>NaN</td>\n",
              "      <td>5</td>\n",
              "      <td>4</td>\n",
              "      <td>4</td>\n",
              "      <td>1</td>\n",
              "      <td>3</td>\n",
              "      <td>1</td>\n",
              "    </tr>\n",
              "    <tr>\n",
              "      <th>209</th>\n",
              "      <td>Karl Mike</td>\n",
              "      <td>21</td>\n",
              "      <td>Male</td>\n",
              "      <td>Occasionally</td>\n",
              "      <td>Yes</td>\n",
              "      <td>Angry;Sad</td>\n",
              "      <td>Ignore it;Report the player</td>\n",
              "      <td>No</td>\n",
              "      <td>No</td>\n",
              "      <td>NaN</td>\n",
              "      <td>4</td>\n",
              "      <td>5</td>\n",
              "      <td>3</td>\n",
              "      <td>1</td>\n",
              "      <td>2</td>\n",
              "      <td>1</td>\n",
              "    </tr>\n",
              "    <tr>\n",
              "      <th>211</th>\n",
              "      <td>John Michael R. Barliso</td>\n",
              "      <td>20</td>\n",
              "      <td>Male</td>\n",
              "      <td>Often</td>\n",
              "      <td>Yes</td>\n",
              "      <td>Angry;Disheartened</td>\n",
              "      <td>Ignore it</td>\n",
              "      <td>No</td>\n",
              "      <td>No</td>\n",
              "      <td>NaN</td>\n",
              "      <td>3</td>\n",
              "      <td>5</td>\n",
              "      <td>5</td>\n",
              "      <td>1</td>\n",
              "      <td>3</td>\n",
              "      <td>1</td>\n",
              "    </tr>\n",
              "    <tr>\n",
              "      <th>212</th>\n",
              "      <td>Chalina Yubhel Inocerta</td>\n",
              "      <td>20</td>\n",
              "      <td>Female</td>\n",
              "      <td>Always</td>\n",
              "      <td>Yes</td>\n",
              "      <td>Angry;Motivated</td>\n",
              "      <td>NaN</td>\n",
              "      <td>No</td>\n",
              "      <td>Yes</td>\n",
              "      <td>Annoyed by someone’s poor gaming performance</td>\n",
              "      <td>3</td>\n",
              "      <td>5</td>\n",
              "      <td>5</td>\n",
              "      <td>2</td>\n",
              "      <td>1</td>\n",
              "      <td>2</td>\n",
              "    </tr>\n",
              "    <tr>\n",
              "      <th>213</th>\n",
              "      <td>Alejandrino, Shiena Katrine M.</td>\n",
              "      <td>21</td>\n",
              "      <td>Female</td>\n",
              "      <td>Occasionally</td>\n",
              "      <td>Yes</td>\n",
              "      <td>Sad;Disheartened;Embarrassed</td>\n",
              "      <td>Ignore it;Report the player;Laugh at it</td>\n",
              "      <td>No</td>\n",
              "      <td>No</td>\n",
              "      <td>NaN</td>\n",
              "      <td>5</td>\n",
              "      <td>5</td>\n",
              "      <td>5</td>\n",
              "      <td>1</td>\n",
              "      <td>1</td>\n",
              "      <td>1</td>\n",
              "    </tr>\n",
              "    <tr>\n",
              "      <th>222</th>\n",
              "      <td>Benz Ocampo</td>\n",
              "      <td>21</td>\n",
              "      <td>Male</td>\n",
              "      <td>Always</td>\n",
              "      <td>Yes</td>\n",
              "      <td>Angry;Sad;Disheartened</td>\n",
              "      <td>Ignore it;Report the player;Trash talk back to...</td>\n",
              "      <td>No</td>\n",
              "      <td>No</td>\n",
              "      <td>NaN</td>\n",
              "      <td>5</td>\n",
              "      <td>5</td>\n",
              "      <td>5</td>\n",
              "      <td>2</td>\n",
              "      <td>3</td>\n",
              "      <td>2</td>\n",
              "    </tr>\n",
              "  </tbody>\n",
              "</table>\n",
              "</div>"
            ],
            "text/plain": [
              "                              Name   ... Receiving trash talks from other players can negatively affect one’s gaming performance.\n",
              "0         Jasmine Clare B. Padilla   ...                                                  2                                      \n",
              "2                            ADRIAN  ...                                                  3                                      \n",
              "4         Philip Julrenz A. Pionelo  ...                                                  2                                      \n",
              "7                             Phil   ...                                                  5                                      \n",
              "10                         Benedict  ...                                                  2                                      \n",
              "21                           Sofhia  ...                                                  1                                      \n",
              "28                    Ed Mark David  ...                                                  1                                      \n",
              "29                               AJ  ...                                                  2                                      \n",
              "33             Mirko Lawrence Panes  ...                                                  5                                      \n",
              "43            Dean Adrian Estocapio  ...                                                  1                                      \n",
              "46                Justin Santelices  ...                                                  2                                      \n",
              "48                   Chelcy Vergara  ...                                                  1                                      \n",
              "50             Christian Bustamante  ...                                                  1                                      \n",
              "53                 Judith Portalito  ...                                                  1                                      \n",
              "54                  Rosella Purawan  ...                                                  1                                      \n",
              "57                            Guian  ...                                                  2                                      \n",
              "61           Guzman, Nicole Anne R.  ...                                                  2                                      \n",
              "63          Nicole Keith D. Vitales  ...                                                  1                                      \n",
              "68             Carpio, John Icon V.  ...                                                  2                                      \n",
              "73                            Jamie  ...                                                  1                                      \n",
              "77                    Keziah Amamio  ...                                                  2                                      \n",
              "81                  Jann Lawrence M  ...                                                  1                                      \n",
              "92                   Ivan Santiago   ...                                                  2                                      \n",
              "97        Veronica Frances S. Baron  ...                                                  3                                      \n",
              "109               Emman Evangelista  ...                                                  1                                      \n",
              "117           Catibog, Jan Irene V.  ...                                                  5                                      \n",
              "119                   Carlson Naval  ...                                                  3                                      \n",
              "120         Layno, Melody Diana Kay  ...                                                  3                                      \n",
              "124                 Andrei Talavera  ...                                                  1                                      \n",
              "135                     KLEIN YOUNG  ...                                                  1                                      \n",
              "137            Eunice Jane Fernando  ...                                                  1                                      \n",
              "140            Mark Joseph Balongoy  ...                                                  1                                      \n",
              "142                  Romaica Ambida  ...                                                  1                                      \n",
              "153                           Tutty  ...                                                  2                                      \n",
              "160                         minelle  ...                                                  2                                      \n",
              "162                 Patriszia Runas  ...                                                  1                                      \n",
              "166                    Erika Zepeda  ...                                                  5                                      \n",
              "172                  Phoenix Grande  ...                                                  1                                      \n",
              "176          Michelle Cristine Cruz  ...                                                  1                                      \n",
              "177                          Alyssa  ...                                                  2                                      \n",
              "182                     Sher Dumago  ...                                                  2                                      \n",
              "186           Mart Arvhin Penaverde  ...                                                  3                                      \n",
              "200                      Christine   ...                                                  1                                      \n",
              "205                              Ja  ...                                                  3                                      \n",
              "206                        Antivola  ...                                                  1                                      \n",
              "209                       Karl Mike  ...                                                  1                                      \n",
              "211         John Michael R. Barliso  ...                                                  1                                      \n",
              "212         Chalina Yubhel Inocerta  ...                                                  2                                      \n",
              "213  Alejandrino, Shiena Katrine M.  ...                                                  1                                      \n",
              "222                     Benz Ocampo  ...                                                  2                                      \n",
              "\n",
              "[50 rows x 16 columns]"
            ]
          },
          "metadata": {
            "tags": []
          },
          "execution_count": 345
        }
      ]
    },
    {
      "cell_type": "code",
      "metadata": {
        "id": "UvIErkeM8RqB"
      },
      "source": [
        "trashtalk_df.fillna('None', inplace=True)"
      ],
      "execution_count": 346,
      "outputs": []
    },
    {
      "cell_type": "code",
      "metadata": {
        "id": "DvAjxobi-B7_",
        "colab": {
          "base_uri": "https://localhost:8080/",
          "height": 534
        },
        "outputId": "f4655f5c-cdbd-42d4-e388-4fd16bbdd1d2"
      },
      "source": [
        "#checking if NaN values were replaced with 'None'\n",
        "trashtalk_df.loc[73:77]"
      ],
      "execution_count": 347,
      "outputs": [
        {
          "output_type": "execute_result",
          "data": {
            "text/html": [
              "<div>\n",
              "<style scoped>\n",
              "    .dataframe tbody tr th:only-of-type {\n",
              "        vertical-align: middle;\n",
              "    }\n",
              "\n",
              "    .dataframe tbody tr th {\n",
              "        vertical-align: top;\n",
              "    }\n",
              "\n",
              "    .dataframe thead th {\n",
              "        text-align: right;\n",
              "    }\n",
              "</style>\n",
              "<table border=\"1\" class=\"dataframe\">\n",
              "  <thead>\n",
              "    <tr style=\"text-align: right;\">\n",
              "      <th></th>\n",
              "      <th>Name</th>\n",
              "      <th>Age</th>\n",
              "      <th>Gender</th>\n",
              "      <th>1. How often do you play online games?</th>\n",
              "      <th>2. Have you experienced being trash talked by other players while playing online games?</th>\n",
              "      <th>3. If you answered yes in no. 2, what do you usually feel when being trash talked by someone? (select all that apply)</th>\n",
              "      <th>4. If you answered yes in no.2, what action(s) do you usually take?</th>\n",
              "      <th>5. If you answered yes in no. 2, did any of your in-game trash talking experience escalate to a physical fight?</th>\n",
              "      <th>6. Have you ever trash talked someone while playing online games?</th>\n",
              "      <th>7. If you answered yes in no.6, what are your reasons for doing so? (Select all that apply)</th>\n",
              "      <th>Trash talking among players is an essential part of multiplayer gaming culture.</th>\n",
              "      <th>Trash talking gives thrill and excitement to the players during the game.</th>\n",
              "      <th>Trash talking can be considered as a form of strategy or gaming tactics.</th>\n",
              "      <th>Trash talking in online games is a form of harassment</th>\n",
              "      <th>Trash talking can be both friendly and toxic.</th>\n",
              "      <th>Receiving trash talks from other players can negatively affect one’s gaming performance.</th>\n",
              "    </tr>\n",
              "  </thead>\n",
              "  <tbody>\n",
              "    <tr>\n",
              "      <th>73</th>\n",
              "      <td>Jamie</td>\n",
              "      <td>21</td>\n",
              "      <td>Female</td>\n",
              "      <td>Occasionally</td>\n",
              "      <td>No</td>\n",
              "      <td>None</td>\n",
              "      <td>None</td>\n",
              "      <td>None</td>\n",
              "      <td>No</td>\n",
              "      <td>None</td>\n",
              "      <td>4</td>\n",
              "      <td>5</td>\n",
              "      <td>4</td>\n",
              "      <td>1</td>\n",
              "      <td>3</td>\n",
              "      <td>1</td>\n",
              "    </tr>\n",
              "    <tr>\n",
              "      <th>74</th>\n",
              "      <td>Barola, Dana Margarette</td>\n",
              "      <td>22</td>\n",
              "      <td>Female</td>\n",
              "      <td>Sometimes</td>\n",
              "      <td>Yes</td>\n",
              "      <td>Motivated</td>\n",
              "      <td>Ignore it;Trash talk back to that player;Laugh...</td>\n",
              "      <td>No</td>\n",
              "      <td>Yes</td>\n",
              "      <td>Annoyed by someone’s poor gaming performance;I...</td>\n",
              "      <td>4</td>\n",
              "      <td>4</td>\n",
              "      <td>3</td>\n",
              "      <td>3</td>\n",
              "      <td>5</td>\n",
              "      <td>5</td>\n",
              "    </tr>\n",
              "    <tr>\n",
              "      <th>75</th>\n",
              "      <td>Gonzalez,Kevyn Schuyler V.</td>\n",
              "      <td>16</td>\n",
              "      <td>Male</td>\n",
              "      <td>Always</td>\n",
              "      <td>Yes</td>\n",
              "      <td>Angry;Entertained</td>\n",
              "      <td>Trash talk back to that player;Laugh at it</td>\n",
              "      <td>No</td>\n",
              "      <td>Yes</td>\n",
              "      <td>Annoyed by someone’s poor gaming performance;I...</td>\n",
              "      <td>2</td>\n",
              "      <td>3</td>\n",
              "      <td>5</td>\n",
              "      <td>3</td>\n",
              "      <td>1</td>\n",
              "      <td>2</td>\n",
              "    </tr>\n",
              "    <tr>\n",
              "      <th>76</th>\n",
              "      <td>Padua, James Russel M.</td>\n",
              "      <td>20</td>\n",
              "      <td>Male</td>\n",
              "      <td>Always</td>\n",
              "      <td>Yes</td>\n",
              "      <td>Motivated;Nothing</td>\n",
              "      <td>Ignore it;Laugh at it</td>\n",
              "      <td>No</td>\n",
              "      <td>Yes</td>\n",
              "      <td>To distract them</td>\n",
              "      <td>5</td>\n",
              "      <td>5</td>\n",
              "      <td>3</td>\n",
              "      <td>2</td>\n",
              "      <td>1</td>\n",
              "      <td>1</td>\n",
              "    </tr>\n",
              "    <tr>\n",
              "      <th>77</th>\n",
              "      <td>Keziah Amamio</td>\n",
              "      <td>21</td>\n",
              "      <td>Female</td>\n",
              "      <td>Sometimes</td>\n",
              "      <td>No</td>\n",
              "      <td>None</td>\n",
              "      <td>None</td>\n",
              "      <td>None</td>\n",
              "      <td>No</td>\n",
              "      <td>None</td>\n",
              "      <td>3</td>\n",
              "      <td>4</td>\n",
              "      <td>4</td>\n",
              "      <td>2</td>\n",
              "      <td>2</td>\n",
              "      <td>2</td>\n",
              "    </tr>\n",
              "  </tbody>\n",
              "</table>\n",
              "</div>"
            ],
            "text/plain": [
              "                         Name   ... Receiving trash talks from other players can negatively affect one’s gaming performance.\n",
              "73                       Jamie  ...                                                  1                                      \n",
              "74     Barola, Dana Margarette  ...                                                  5                                      \n",
              "75  Gonzalez,Kevyn Schuyler V.  ...                                                  2                                      \n",
              "76      Padua, James Russel M.  ...                                                  1                                      \n",
              "77               Keziah Amamio  ...                                                  2                                      \n",
              "\n",
              "[5 rows x 16 columns]"
            ]
          },
          "metadata": {
            "tags": []
          },
          "execution_count": 347
        }
      ]
    },
    {
      "cell_type": "markdown",
      "metadata": {
        "id": "sz78KV5oR2P3"
      },
      "source": [
        "###Profiling (Data Cleaning)"
      ]
    },
    {
      "cell_type": "code",
      "metadata": {
        "id": "vnWB-mOcO4Ar",
        "colab": {
          "base_uri": "https://localhost:8080/",
          "height": 128
        },
        "outputId": "453ea16e-59fe-48de-86b5-2f4d66b83f9e"
      },
      "source": [
        "#Eliminated irrelevant features/columns(Time stamp, consent form, questions)\n",
        "trashtalk_df.drop(['trashtalk_dffeature'], axis=1, inplace = True)\n",
        "#Eliminating irrelevant records/rows\n",
        "q_df =df['df_record']\n",
        "q_df.drop(['df_record'], labels= ,axis=0, inplace = True)\n",
        "#locating records to eliminate\n",
        "df.loc[index_no]['df_feature']\n",
        "\n",
        "#modifying records\n",
        "# removing \"y/Years old\" string in AGE column\n",
        "df['Age'] = df['Age'].map(lambda x: x.rstrip('yYears old'))\n",
        "\n",
        "q_df =df['df_record']\n",
        "q_dclean_df = (q_df.loc[index_no]) = 'new_value'\n",
        "\n",
        "#Locating NaN values all over the dataset\n",
        "is_NaN = df.isnull()\n",
        "row_has_NaN = is_NaN.any(axis=1)\n",
        "rows_with_NaN = df[row_has_NaN]\n",
        "rows_with_NaN\n",
        "\n",
        "#replacing NaN values\n",
        "df.fillna('None', inplace=True)"
      ],
      "execution_count": 348,
      "outputs": [
        {
          "output_type": "error",
          "ename": "SyntaxError",
          "evalue": "ignored",
          "traceback": [
            "\u001b[0;36m  File \u001b[0;32m\"<ipython-input-348-9310a9c06d1c>\"\u001b[0;36m, line \u001b[0;32m5\u001b[0m\n\u001b[0;31m    q_df.drop(['df_record'], labels= ,axis=0, inplace = True)\u001b[0m\n\u001b[0m                                     ^\u001b[0m\n\u001b[0;31mSyntaxError\u001b[0m\u001b[0;31m:\u001b[0m invalid syntax\n"
          ]
        }
      ]
    },
    {
      "cell_type": "markdown",
      "metadata": {
        "id": "1lRKBCWHzo9c"
      },
      "source": [
        "####Saving it as new dataset"
      ]
    },
    {
      "cell_type": "code",
      "metadata": {
        "id": "LlMkK4MaieV9"
      },
      "source": [
        "#NOTE: Once the data cleaning is performed, save it as a new dataset.\n",
        "trashtalk_df.to_csv(\"trashtalk.csv\")"
      ],
      "execution_count": 349,
      "outputs": []
    },
    {
      "cell_type": "markdown",
      "metadata": {
        "id": "rJGwaJFJ7Wpk"
      },
      "source": [
        "# Data Visualization"
      ]
    },
    {
      "cell_type": "code",
      "metadata": {
        "id": "jVa3WjUJrl9I",
        "colab": {
          "base_uri": "https://localhost:8080/"
        },
        "outputId": "089e7805-8d98-4457-904f-ced28d7a0f8f"
      },
      "source": [
        "trashtalk_df.dtypes"
      ],
      "execution_count": 350,
      "outputs": [
        {
          "output_type": "execute_result",
          "data": {
            "text/plain": [
              "Name                                                                                                                      object\n",
              "Age                                                                                                                       object\n",
              "Gender                                                                                                                    object\n",
              "1. How often do you play online games?                                                                                    object\n",
              "2. Have you experienced being trash talked by other players while playing online games?                                   object\n",
              "3. If you answered yes in no. 2, what do you usually feel when being trash talked by someone? (select all that apply)     object\n",
              "4. If you answered yes in no.2, what action(s) do you usually take?                                                       object\n",
              "5. If you answered yes in no. 2, did any of your in-game trash talking experience escalate to a physical fight?           object\n",
              "6. Have you ever trash talked someone while playing online games?                                                         object\n",
              "7. If you answered yes in no.6, what are your reasons for doing so? (Select all that apply)                               object\n",
              "Trash talking among players is an essential part of multiplayer gaming culture.                                            int64\n",
              "Trash talking gives thrill and excitement to the players during the game.                                                  int64\n",
              "Trash talking can be considered as a form of strategy or gaming tactics.                                                   int64\n",
              "Trash talking in online games is a form of harassment                                                                      int64\n",
              "Trash talking can be both friendly and toxic.                                                                              int64\n",
              "Receiving trash talks from other players can negatively affect one’s gaming performance.                                   int64\n",
              "dtype: object"
            ]
          },
          "metadata": {
            "tags": []
          },
          "execution_count": 350
        }
      ]
    },
    {
      "cell_type": "code",
      "metadata": {
        "colab": {
          "base_uri": "https://localhost:8080/",
          "height": 1000
        },
        "id": "9Ycwcfv_JTvQ",
        "outputId": "7924526b-2b02-49d4-f55f-8842e0c1a069"
      },
      "source": [
        "ax = trashtalk_df['1. How often do you play online games?'].value_counts().plot.bar(width=.8, color='#c79fef')\n",
        "ax.set_xlabel('Frequency')\n",
        "ax.set_ylabel('# of Respondents')\n",
        "\n",
        "sns.set_context('poster')"
      ],
      "execution_count": 352,
      "outputs": [
        {
          "output_type": "display_data",
          "data": {
            "image/png": "[encoded data removed]",
            "text/plain": [
              "<Figure size 1800x1200 with 1 Axes>"
            ]
          },
          "metadata": {
            "tags": []
          }
        }
      ]
    },
    {
      "cell_type": "code",
      "metadata": {
        "colab": {
          "base_uri": "https://localhost:8080/",
          "height": 596
        },
        "id": "vJ8Wfy-dKTc7",
        "outputId": "e806605e-821c-486f-b819-cb0ba8d116a2"
      },
      "source": [
        "ax = trashtalk_df['2. Have you experienced being trash talked by other players while playing online games?'].value_counts().plot.bar(color='#800080')\n",
        "ax.set_xlabel('Yes or No')\n",
        "ax.set_ylabel('# of Respondents')\n",
        "\n",
        "plt.style.use('seaborn-pastel')\n",
        "sns.set_context('poster')"
      ],
      "execution_count": null,
      "outputs": [
        {
          "output_type": "display_data",
          "data": {
            "image/png": "[encoded data removed]",
            "text/plain": [
              "<Figure size 921.6x633.6 with 1 Axes>"
            ]
          },
          "metadata": {
            "tags": [],
            "needs_background": "light"
          }
        }
      ]
    },
    {
      "cell_type": "code",
      "metadata": {
        "colab": {
          "base_uri": "https://localhost:8080/",
          "height": 580
        },
        "id": "PocZYCyvQMHq",
        "outputId": "bb91b54d-356a-47d5-c5eb-42a5cf660a32"
      },
      "source": [
        "ax = trashtalk_df['Age'].value_counts().plot.hist(color='#ff796c')\n",
        "ax.set_xlabel('Age')\n",
        "ax.set_ylabel('# of Respondents')\n",
        "\n",
        "plt.style.use('seaborn-pastel')\n",
        "sns.set_context('poster')"
      ],
      "execution_count": null,
      "outputs": [
        {
          "output_type": "display_data",
          "data": {
            "image/png": "[encoded data removed]",
            "text/plain": [
              "<Figure size 921.6x633.6 with 1 Axes>"
            ]
          },
          "metadata": {
            "tags": [],
            "needs_background": "light"
          }
        }
      ]
    },
    {
      "cell_type": "code",
      "metadata": {
        "colab": {
          "base_uri": "https://localhost:8080/",
          "height": 605
        },
        "id": "DVOA2zleRaZp",
        "outputId": "5903ce12-1bca-468b-f5f8-6b9fe544f3ab"
      },
      "source": [
        "Feelings = ['Angry','Sad','Disheartened','Embarassed','Motivated','Entertained','Nothing']\n",
        "Respondents = [101,27,49,51,89,138,6]\n",
        "\n",
        "plt.style.use('seaborn-pastel')\n",
        "sns.set_context('poster')\n",
        "\n",
        "plt.barh(Feelings,Respondents)\n",
        "plt.title('Escalate to a Real Fight')\n",
        "plt.ylabel('Feelings')\n",
        "plt.xlabel('Respondents')\n",
        "plt.show()"
      ],
      "execution_count": null,
      "outputs": [
        {
          "output_type": "display_data",
          "data": {
            "image/png": "[encoded data removed]",
            "text/plain": [
              "<Figure size 921.6x633.6 with 1 Axes>"
            ]
          },
          "metadata": {
            "tags": [],
            "needs_background": "light"
          }
        }
      ]
    },
    {
      "cell_type": "code",
      "metadata": {
        "id": "WCUuX5TPecaY",
        "colab": {
          "base_uri": "https://localhost:8080/",
          "height": 520
        },
        "outputId": "353d1b1c-2443-4573-afcb-7077d6a0ece7"
      },
      "source": [
        "Actions = ['Ignore it','Report the player','Trash talk back to that player','Laugh at it','Mute the player']\n",
        "Respondents = [130,101,122,139,2]\n",
        "\n",
        "sns.set_context('poster')\n",
        "sns.set_palette(\"Blues_d\")\n",
        "\n",
        "plt.barh(Actions,Respondents)\n",
        "plt.title('Actions they do')\n",
        "plt.ylabel('Actions')\n",
        "plt.xlabel('Respondents')\n",
        "plt.show()"
      ],
      "execution_count": null,
      "outputs": [
        {
          "output_type": "display_data",
          "data": {
            "image/png": "[encoded data removed]",
            "text/plain": [
              "<Figure size 921.6x633.6 with 1 Axes>"
            ]
          },
          "metadata": {
            "tags": [],
            "needs_background": "light"
          }
        }
      ]
    },
    {
      "cell_type": "code",
      "metadata": {
        "colab": {
          "base_uri": "https://localhost:8080/",
          "height": 393
        },
        "id": "HGxsUfc_c9l7",
        "outputId": "de24f338-7e96-4d58-b070-c52be251eff8"
      },
      "source": [
        "ax = trashtalk_df['5. If you answered yes in no. 2, did any of your in-game trash talking experience escalate to a physical fight?'].value_counts().plot.bar(width=.8, color='sandybrown')\n",
        "ax.set_xlabel('Frequency')\n",
        "ax.set_ylabel('# of Respondents')\n",
        "ax.set_title('Escalate to a Real Fight')\n",
        "\n",
        "sns.set_context('poster')\n"
      ],
      "execution_count": null,
      "outputs": [
        {
          "output_type": "display_data",
          "data": {
            "image/png": "[encoded data removed]",
            "text/plain": [
              "<Figure size 432x288 with 1 Axes>"
            ]
          },
          "metadata": {
            "tags": [],
            "needs_background": "light"
          }
        }
      ]
    },
    {
      "cell_type": "code",
      "metadata": {
        "colab": {
          "base_uri": "https://localhost:8080/",
          "height": 352
        },
        "id": "XPmz3c7DfSQ2",
        "outputId": "7ba34028-5bb1-4d33-d1f0-d89ccf3a3129"
      },
      "source": [
        "ax = trashtalk_df['6. Have you ever trash talked someone while playing online games?'].value_counts().plot.bar(color='khaki')\n",
        "ax.set_xlabel('Frequency')\n",
        "ax.set_ylabel('# of Respondents')\n",
        "ax.set_title('Number of Respondents that Trash talks')\n",
        "\n",
        "sns.set_context('poster')"
      ],
      "execution_count": null,
      "outputs": [
        {
          "output_type": "display_data",
          "data": {
            "image/png": "[encoded data removed]",
            "text/plain": [
              "<Figure size 432x288 with 1 Axes>"
            ]
          },
          "metadata": {
            "tags": [],
            "needs_background": "light"
          }
        }
      ]
    },
    {
      "cell_type": "code",
      "metadata": {
        "id": "rwc1Y0d7f8Zb"
      },
      "source": [
        "Reasons = ['Annoyed by playing skills','To distract them','The other player did it first','It heightens the fun','Mute the player']\n",
        "Respondents = [116,52,7,]\n",
        "\n",
        "sns.set_context('poster')\n",
        "sns.set_palette(\"Blues_d\")\n",
        "\n",
        "plt.barh(Actions,Respondents)\n",
        "plt.title('Actions they do')\n",
        "plt.ylabel('Actions')\n",
        "plt.xlabel('Respondents')\n",
        "plt.show()"
      ],
      "execution_count": null,
      "outputs": []
    },
    {
      "cell_type": "markdown",
      "metadata": {
        "id": "9mVjZYo_xHM6"
      },
      "source": [
        "### PRACTICE"
      ]
    },
    {
      "cell_type": "code",
      "metadata": {
        "id": "TmbqBR7cxGVu",
        "outputId": "673c3b0d-221c-42b4-8873-8fbd496d8433",
        "colab": {
          "base_uri": "https://localhost:8080/",
          "height": 1000
        }
      },
      "source": [
        "trashtalk_df[['emo1','emo2','emo3','emo4','emo5','emo6']] = trashtalk_df['3. If you answered yes in no. 2, what do you usually feel when being trash talked by someone? (select all that apply) '].str.split(';',expand=True)\n",
        "trashtalk_df"
      ],
      "execution_count": 356,
      "outputs": [
        {
          "output_type": "execute_result",
          "data": {
            "text/html": [
              "<div>\n",
              "<style scoped>\n",
              "    .dataframe tbody tr th:only-of-type {\n",
              "        vertical-align: middle;\n",
              "    }\n",
              "\n",
              "    .dataframe tbody tr th {\n",
              "        vertical-align: top;\n",
              "    }\n",
              "\n",
              "    .dataframe thead th {\n",
              "        text-align: right;\n",
              "    }\n",
              "</style>\n",
              "<table border=\"1\" class=\"dataframe\">\n",
              "  <thead>\n",
              "    <tr style=\"text-align: right;\">\n",
              "      <th></th>\n",
              "      <th>Name</th>\n",
              "      <th>Age</th>\n",
              "      <th>Gender</th>\n",
              "      <th>1. How often do you play online games?</th>\n",
              "      <th>2. Have you experienced being trash talked by other players while playing online games?</th>\n",
              "      <th>3. If you answered yes in no. 2, what do you usually feel when being trash talked by someone? (select all that apply)</th>\n",
              "      <th>4. If you answered yes in no.2, what action(s) do you usually take?</th>\n",
              "      <th>5. If you answered yes in no. 2, did any of your in-game trash talking experience escalate to a physical fight?</th>\n",
              "      <th>6. Have you ever trash talked someone while playing online games?</th>\n",
              "      <th>7. If you answered yes in no.6, what are your reasons for doing so? (Select all that apply)</th>\n",
              "      <th>Trash talking among players is an essential part of multiplayer gaming culture.</th>\n",
              "      <th>Trash talking gives thrill and excitement to the players during the game.</th>\n",
              "      <th>Trash talking can be considered as a form of strategy or gaming tactics.</th>\n",
              "      <th>Trash talking in online games is a form of harassment</th>\n",
              "      <th>Trash talking can be both friendly and toxic.</th>\n",
              "      <th>Receiving trash talks from other players can negatively affect one’s gaming performance.</th>\n",
              "      <th>emo1</th>\n",
              "      <th>emo2</th>\n",
              "      <th>emo3</th>\n",
              "      <th>emo4</th>\n",
              "      <th>emo5</th>\n",
              "      <th>emo6</th>\n",
              "    </tr>\n",
              "  </thead>\n",
              "  <tbody>\n",
              "    <tr>\n",
              "      <th>0</th>\n",
              "      <td>Jasmine Clare B. Padilla</td>\n",
              "      <td>22</td>\n",
              "      <td>Female</td>\n",
              "      <td>Often</td>\n",
              "      <td>Yes</td>\n",
              "      <td>Angry;Disheartened;Embarrassed;Entertained</td>\n",
              "      <td>Trash talk back to that player;Laugh at it</td>\n",
              "      <td>No</td>\n",
              "      <td>No</td>\n",
              "      <td>None</td>\n",
              "      <td>2</td>\n",
              "      <td>2</td>\n",
              "      <td>2</td>\n",
              "      <td>2</td>\n",
              "      <td>2</td>\n",
              "      <td>2</td>\n",
              "      <td>Angry</td>\n",
              "      <td>Disheartened</td>\n",
              "      <td>Embarrassed</td>\n",
              "      <td>Entertained</td>\n",
              "      <td>None</td>\n",
              "      <td>None</td>\n",
              "    </tr>\n",
              "    <tr>\n",
              "      <th>1</th>\n",
              "      <td>Reyes, Adrian Philipp</td>\n",
              "      <td>20</td>\n",
              "      <td>Male</td>\n",
              "      <td>Always</td>\n",
              "      <td>Yes</td>\n",
              "      <td>Angry;Motivated;Entertained</td>\n",
              "      <td>Ignore it;Report the player;Trash talk back to...</td>\n",
              "      <td>No</td>\n",
              "      <td>Yes</td>\n",
              "      <td>Annoyed by someone’s poor gaming performance;T...</td>\n",
              "      <td>1</td>\n",
              "      <td>1</td>\n",
              "      <td>2</td>\n",
              "      <td>1</td>\n",
              "      <td>1</td>\n",
              "      <td>1</td>\n",
              "      <td>Angry</td>\n",
              "      <td>Motivated</td>\n",
              "      <td>Entertained</td>\n",
              "      <td>None</td>\n",
              "      <td>None</td>\n",
              "      <td>None</td>\n",
              "    </tr>\n",
              "    <tr>\n",
              "      <th>2</th>\n",
              "      <td>ADRIAN</td>\n",
              "      <td>21</td>\n",
              "      <td>Male</td>\n",
              "      <td>Always</td>\n",
              "      <td>Yes</td>\n",
              "      <td>Entertained</td>\n",
              "      <td>None</td>\n",
              "      <td>No</td>\n",
              "      <td>Yes</td>\n",
              "      <td>To distract them;It heightens the fun</td>\n",
              "      <td>4</td>\n",
              "      <td>3</td>\n",
              "      <td>3</td>\n",
              "      <td>3</td>\n",
              "      <td>1</td>\n",
              "      <td>3</td>\n",
              "      <td>Entertained</td>\n",
              "      <td>None</td>\n",
              "      <td>None</td>\n",
              "      <td>None</td>\n",
              "      <td>None</td>\n",
              "      <td>None</td>\n",
              "    </tr>\n",
              "    <tr>\n",
              "      <th>3</th>\n",
              "      <td>Charles cordero</td>\n",
              "      <td>21</td>\n",
              "      <td>Male</td>\n",
              "      <td>Always</td>\n",
              "      <td>Yes</td>\n",
              "      <td>Motivated;Entertained</td>\n",
              "      <td>Ignore it;Report the player;Trash talk back to...</td>\n",
              "      <td>No</td>\n",
              "      <td>Yes</td>\n",
              "      <td>Annoyed by someone’s poor gaming performance;T...</td>\n",
              "      <td>3</td>\n",
              "      <td>5</td>\n",
              "      <td>2</td>\n",
              "      <td>1</td>\n",
              "      <td>1</td>\n",
              "      <td>1</td>\n",
              "      <td>Motivated</td>\n",
              "      <td>Entertained</td>\n",
              "      <td>None</td>\n",
              "      <td>None</td>\n",
              "      <td>None</td>\n",
              "      <td>None</td>\n",
              "    </tr>\n",
              "    <tr>\n",
              "      <th>4</th>\n",
              "      <td>Philip Julrenz A. Pionelo</td>\n",
              "      <td>21</td>\n",
              "      <td>Male</td>\n",
              "      <td>Always</td>\n",
              "      <td>Yes</td>\n",
              "      <td>Angry;Sad;Disheartened;Embarrassed;Motivated;E...</td>\n",
              "      <td>Ignore it;Report the player;Laugh at it</td>\n",
              "      <td>None</td>\n",
              "      <td>No</td>\n",
              "      <td>None</td>\n",
              "      <td>4</td>\n",
              "      <td>4</td>\n",
              "      <td>5</td>\n",
              "      <td>3</td>\n",
              "      <td>3</td>\n",
              "      <td>2</td>\n",
              "      <td>Angry</td>\n",
              "      <td>Sad</td>\n",
              "      <td>Disheartened</td>\n",
              "      <td>Embarrassed</td>\n",
              "      <td>Motivated</td>\n",
              "      <td>Entertained</td>\n",
              "    </tr>\n",
              "    <tr>\n",
              "      <th>...</th>\n",
              "      <td>...</td>\n",
              "      <td>...</td>\n",
              "      <td>...</td>\n",
              "      <td>...</td>\n",
              "      <td>...</td>\n",
              "      <td>...</td>\n",
              "      <td>...</td>\n",
              "      <td>...</td>\n",
              "      <td>...</td>\n",
              "      <td>...</td>\n",
              "      <td>...</td>\n",
              "      <td>...</td>\n",
              "      <td>...</td>\n",
              "      <td>...</td>\n",
              "      <td>...</td>\n",
              "      <td>...</td>\n",
              "      <td>...</td>\n",
              "      <td>...</td>\n",
              "      <td>...</td>\n",
              "      <td>...</td>\n",
              "      <td>...</td>\n",
              "      <td>...</td>\n",
              "    </tr>\n",
              "    <tr>\n",
              "      <th>220</th>\n",
              "      <td>Maria Elizah T. Porcado</td>\n",
              "      <td>20</td>\n",
              "      <td>Female</td>\n",
              "      <td>Often</td>\n",
              "      <td>Yes</td>\n",
              "      <td>Angry;Entertained</td>\n",
              "      <td>Ignore it;Report the player;Trash talk back to...</td>\n",
              "      <td>No</td>\n",
              "      <td>Yes</td>\n",
              "      <td>Annoyed by someone’s poor gaming performance;I...</td>\n",
              "      <td>2</td>\n",
              "      <td>1</td>\n",
              "      <td>5</td>\n",
              "      <td>2</td>\n",
              "      <td>1</td>\n",
              "      <td>3</td>\n",
              "      <td>Angry</td>\n",
              "      <td>Entertained</td>\n",
              "      <td>None</td>\n",
              "      <td>None</td>\n",
              "      <td>None</td>\n",
              "      <td>None</td>\n",
              "    </tr>\n",
              "    <tr>\n",
              "      <th>221</th>\n",
              "      <td>Alyza Santiago</td>\n",
              "      <td>21</td>\n",
              "      <td>Female</td>\n",
              "      <td>Often</td>\n",
              "      <td>Yes</td>\n",
              "      <td>Angry;Entertained</td>\n",
              "      <td>Report the player;Trash talk back to that play...</td>\n",
              "      <td>No</td>\n",
              "      <td>Yes</td>\n",
              "      <td>Annoyed by someone’s poor gaming performance;I...</td>\n",
              "      <td>3</td>\n",
              "      <td>2</td>\n",
              "      <td>3</td>\n",
              "      <td>1</td>\n",
              "      <td>2</td>\n",
              "      <td>1</td>\n",
              "      <td>Angry</td>\n",
              "      <td>Entertained</td>\n",
              "      <td>None</td>\n",
              "      <td>None</td>\n",
              "      <td>None</td>\n",
              "      <td>None</td>\n",
              "    </tr>\n",
              "    <tr>\n",
              "      <th>222</th>\n",
              "      <td>Benz Ocampo</td>\n",
              "      <td>21</td>\n",
              "      <td>Male</td>\n",
              "      <td>Always</td>\n",
              "      <td>Yes</td>\n",
              "      <td>Angry;Sad;Disheartened</td>\n",
              "      <td>Ignore it;Report the player;Trash talk back to...</td>\n",
              "      <td>No</td>\n",
              "      <td>No</td>\n",
              "      <td>None</td>\n",
              "      <td>5</td>\n",
              "      <td>5</td>\n",
              "      <td>5</td>\n",
              "      <td>2</td>\n",
              "      <td>3</td>\n",
              "      <td>2</td>\n",
              "      <td>Angry</td>\n",
              "      <td>Sad</td>\n",
              "      <td>Disheartened</td>\n",
              "      <td>None</td>\n",
              "      <td>None</td>\n",
              "      <td>None</td>\n",
              "    </tr>\n",
              "    <tr>\n",
              "      <th>223</th>\n",
              "      <td>John Rey</td>\n",
              "      <td>21</td>\n",
              "      <td>Male</td>\n",
              "      <td>Always</td>\n",
              "      <td>Yes</td>\n",
              "      <td>Motivated</td>\n",
              "      <td>Trash talk back to that player;Laugh at it</td>\n",
              "      <td>No</td>\n",
              "      <td>Yes</td>\n",
              "      <td>Annoyed by someone’s poor gaming performance;I...</td>\n",
              "      <td>2</td>\n",
              "      <td>2</td>\n",
              "      <td>3</td>\n",
              "      <td>3</td>\n",
              "      <td>2</td>\n",
              "      <td>3</td>\n",
              "      <td>Motivated</td>\n",
              "      <td>None</td>\n",
              "      <td>None</td>\n",
              "      <td>None</td>\n",
              "      <td>None</td>\n",
              "      <td>None</td>\n",
              "    </tr>\n",
              "    <tr>\n",
              "      <th>224</th>\n",
              "      <td>Christian Ramirez</td>\n",
              "      <td>21</td>\n",
              "      <td>Male</td>\n",
              "      <td>Often</td>\n",
              "      <td>Yes</td>\n",
              "      <td>Angry;Motivated;Entertained</td>\n",
              "      <td>Report the player;Laugh at it</td>\n",
              "      <td>No</td>\n",
              "      <td>Yes</td>\n",
              "      <td>Annoyed by someone’s poor gaming performance</td>\n",
              "      <td>3</td>\n",
              "      <td>3</td>\n",
              "      <td>3</td>\n",
              "      <td>1</td>\n",
              "      <td>3</td>\n",
              "      <td>2</td>\n",
              "      <td>Angry</td>\n",
              "      <td>Motivated</td>\n",
              "      <td>Entertained</td>\n",
              "      <td>None</td>\n",
              "      <td>None</td>\n",
              "      <td>None</td>\n",
              "    </tr>\n",
              "  </tbody>\n",
              "</table>\n",
              "<p>224 rows × 22 columns</p>\n",
              "</div>"
            ],
            "text/plain": [
              "                         Name  Age  Gender  ...         emo4       emo5         emo6\n",
              "0    Jasmine Clare B. Padilla   22  Female  ...  Entertained       None         None\n",
              "1        Reyes, Adrian Philipp  20    Male  ...         None       None         None\n",
              "2                       ADRIAN  21    Male  ...         None       None         None\n",
              "3             Charles cordero   21    Male  ...         None       None         None\n",
              "4    Philip Julrenz A. Pionelo  21    Male  ...  Embarrassed  Motivated  Entertained\n",
              "..                         ...  ..     ...  ...          ...        ...          ...\n",
              "220    Maria Elizah T. Porcado  20  Female  ...         None       None         None\n",
              "221             Alyza Santiago  21  Female  ...         None       None         None\n",
              "222                Benz Ocampo  21    Male  ...         None       None         None\n",
              "223                   John Rey  21    Male  ...         None       None         None\n",
              "224          Christian Ramirez  21    Male  ...         None       None         None\n",
              "\n",
              "[224 rows x 22 columns]"
            ]
          },
          "metadata": {
            "tags": []
          },
          "execution_count": 356
        }
      ]
    },
    {
      "cell_type": "code",
      "metadata": {
        "id": "K30opFRNxoFD"
      },
      "source": [
        ""
      ],
      "execution_count": null,
      "outputs": []
    }
  ]
}